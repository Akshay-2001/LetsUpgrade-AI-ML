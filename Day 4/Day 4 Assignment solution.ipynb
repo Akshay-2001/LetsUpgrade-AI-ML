{
 "cells": [
  {
   "cell_type": "markdown",
   "metadata": {},
   "source": [
    "___Question 1 :___\n",
    "Research on whether addition, subtraction, multiplication, division, floor division and modulo operations be performed on complex numbers. Based on your study, implement a Python program to demonstrate these operations."
   ]
  },
  {
   "cell_type": "code",
   "execution_count": 1,
   "metadata": {},
   "outputs": [
    {
     "name": "stdout",
     "output_type": "stream",
     "text": [
      "Enter the complex value of a: 5+5j\n",
      "Enter the complex value of b: 8+16j\n",
      "Enter the operation to be performed among +,-,*,/,//,%  : +\n",
      "(5+5j) + (8+16j) = (13+21j)\n"
     ]
    }
   ],
   "source": [
    "# We can do all operations like addition, subtraction, multiplication, and division except the poerations like floor division and modulo as theey will provide a type error.\n",
    "a = complex(input(\"Enter the complex value of a: \"))\n",
    "b = complex(input(\"Enter the complex value of b: \"))\n",
    "ch = input(\"Enter the operation to be performed among +,-,*,/,//,%  : \")\n",
    "result = 0\n",
    "if ch == '+':\n",
    "    result = a+b\n",
    "elif ch == '-':\n",
    "    result = a-b\n",
    "elif ch == '*':\n",
    "    result = a*b\n",
    "elif ch == '/':\n",
    "    result = a/b\n",
    "elif ch == '//':\n",
    "    print(\"Floor divison of complex numbers is not possible\")\n",
    "elif ch == '%':\n",
    "    print(\"Modulo operation is not possible for complex numbers\")\n",
    "    \n",
    "print(a, ch ,b, \"=\",result)"
   ]
  },
  {
   "cell_type": "code",
   "execution_count": 2,
   "metadata": {},
   "outputs": [
    {
     "name": "stdout",
     "output_type": "stream",
     "text": [
      "Enter the complex value of a: 8+7j\n",
      "Enter the complex value of b: 16+9j\n",
      "Enter the operation to be performed among +,-,*,/,//,%  : //\n",
      "Floor divison of complex numbers is not possible\n",
      "(8+7j) // (16+9j) = 0\n"
     ]
    }
   ],
   "source": [
    "# We can do all operations like addition, subtraction, multiplication, and division except the poerations like floor division and modulo as theey will provide a type error.\n",
    "a = complex(input(\"Enter the complex value of a: \"))\n",
    "b = complex(input(\"Enter the complex value of b: \"))\n",
    "ch = input(\"Enter the operation to be performed among +,-,*,/,//,%  : \")\n",
    "result = 0\n",
    "if ch == '+':\n",
    "    result = a+b\n",
    "elif ch == '-':\n",
    "    result = a-b\n",
    "elif ch == '*':\n",
    "    result = a*b\n",
    "elif ch == '/':\n",
    "    result = a/b\n",
    "elif ch == '//':\n",
    "    print(\"Floor divison of complex numbers is not possible\")\n",
    "elif ch == '%':\n",
    "    print(\"Modulo operation is not possible for complex numbers\")\n",
    "    \n",
    "print(a, ch ,b, \"=\",result)"
   ]
  },
  {
   "cell_type": "markdown",
   "metadata": {},
   "source": [
    "___Question 2 :___\n",
    "Research on range() functions and its parameters. Create a markdown cell and write in your own words (no copy-paste from google please) what you understand about it. Implement a small program of your choice on the same."
   ]
  },
  {
   "cell_type": "markdown",
   "metadata": {},
   "source": [
    "- Range() function is an built-in function which generates integers between the given limit.\n",
    "- The range() function returns a sequence of numbers, starting from 0 by default, and increments by 1 (by default), and stops before a specified number.\n",
    "- Syntax : range(start, stop, step)\n",
    "- Its start value is called the lower limit and stop value is called the upper limit.\n",
    "- Step is the value by which the stop value is incremented (the default value will be one even if it isn't specified)."
   ]
  },
  {
   "cell_type": "code",
   "execution_count": 3,
   "metadata": {},
   "outputs": [
    {
     "name": "stdout",
     "output_type": "stream",
     "text": [
      "1 is an odd number\n",
      "2 is an even number\n",
      "3 is an odd number\n",
      "4 is an even number\n",
      "5 is an odd number\n",
      "6 is an even number\n",
      "7 is an odd number\n",
      "8 is an even number\n",
      "9 is an odd number\n",
      "10 is an even number\n",
      "11 is an odd number\n",
      "12 is an even number\n",
      "13 is an odd number\n",
      "14 is an even number\n",
      "15 is an odd number\n",
      "16 is an even number\n",
      "17 is an odd number\n",
      "18 is an even number\n",
      "19 is an odd number\n",
      "20 is an even number\n"
     ]
    }
   ],
   "source": [
    "# Program implementing range() fumnction\n",
    "for i in range(1,21):\n",
    "    if i%2 == 0:\n",
    "        print(i, \"is an even number\")\n",
    "    else :\n",
    "        print(i, \"is an odd number\")"
   ]
  },
  {
   "cell_type": "markdown",
   "metadata": {},
   "source": [
    "___Question 3:___\n",
    "Consider two numbers. Perform their subtraction and if the result of subtraction is greater than 25, print their multiplication result else print their division result."
   ]
  },
  {
   "cell_type": "code",
   "execution_count": 4,
   "metadata": {},
   "outputs": [
    {
     "name": "stdout",
     "output_type": "stream",
     "text": [
      "Enter the value of a: 51\n",
      "Enter the value of b: 20\n",
      "Difference of a and b is  31\n",
      "31 is greater than 25\n",
      "Product of a and b is:  1020\n"
     ]
    }
   ],
   "source": [
    "a = int(input(\"Enter the value of a: \"))\n",
    "b = int(input(\"Enter the value of b: \"))\n",
    "diff = a - b\n",
    "print(\"Difference of a and b is \",diff)\n",
    "if diff > 25:\n",
    "    print(diff, \"is greater than 25\")\n",
    "    print(\"Product of a and b is: \", a*b)\n",
    "else:\n",
    "    print(diff, \"is less than 25\")\n",
    "    print(\"Quotient of a and b is: \", a/b)"
   ]
  },
  {
   "cell_type": "markdown",
   "metadata": {},
   "source": [
    "___Question 4:___\n",
    "Consider a list of 10 elements of integer values. If the number in the list is divisible by 2, print the result as \"square of that number minus 2\"."
   ]
  },
  {
   "cell_type": "code",
   "execution_count": 5,
   "metadata": {},
   "outputs": [
    {
     "name": "stdout",
     "output_type": "stream",
     "text": [
      "Square of 2 is 4\n",
      "Square of 2 minus 2 is 2\n",
      "Square of 4 is 16\n",
      "Square of 4 minus 2 is 14\n",
      "Square of 6 is 36\n",
      "Square of 6 minus 2 is 34\n",
      "Square of 8 is 64\n",
      "Square of 8 minus 2 is 62\n",
      "Square of 10 is 100\n",
      "Square of 10 minus 2 is 98\n"
     ]
    }
   ],
   "source": [
    "l = [1,2,3,4,5,6,7,8,9,10]\n",
    "for i in l:\n",
    "    if (i%2==0):\n",
    "        print(\"Square of\",i,\"is\",i**2)\n",
    "        print(\"Square of\",i,\"minus 2 is\",(i**2)-2)"
   ]
  },
  {
   "cell_type": "markdown",
   "metadata": {},
   "source": [
    "___Question 5:___\n",
    "Consider a list of 10 elements. Print all the elements in the list which are greater than 7 when that\n",
    "number is divided 2."
   ]
  },
  {
   "cell_type": "code",
   "execution_count": 6,
   "metadata": {},
   "outputs": [
    {
     "name": "stdout",
     "output_type": "stream",
     "text": [
      "In the given list, 24 is greater than 7 and is divisible by 2.\n",
      "In the given list, 26 is greater than 7 and is divisible by 2.\n",
      "In the given list, 28 is greater than 7 and is divisible by 2.\n",
      "In the given list, 36 is greater than 7 and is divisible by 2.\n",
      "In the given list, 54 is greater than 7 and is divisible by 2.\n",
      "In the given list, 96 is greater than 7 and is divisible by 2.\n",
      "In the given list, 102 is greater than 7 and is divisible by 2.\n"
     ]
    }
   ],
   "source": [
    "\n",
    "l = [1,7,24,26,28,36,54,96,102]\n",
    "for i in l:\n",
    "    if i > 7:\n",
    "        if (i%2==0):\n",
    "            print(\"In the given list,\",i,\"is greater than 7 and is divisible by 2.\")"
   ]
  }
 ],
 "metadata": {
  "kernelspec": {
   "display_name": "Python 3",
   "language": "python",
   "name": "python3"
  },
  "language_info": {
   "codemirror_mode": {
    "name": "ipython",
    "version": 3
   },
   "file_extension": ".py",
   "mimetype": "text/x-python",
   "name": "python",
   "nbconvert_exporter": "python",
   "pygments_lexer": "ipython3",
   "version": "3.7.6"
  },
  "toc": {
   "base_numbering": 1,
   "nav_menu": {},
   "number_sections": true,
   "sideBar": true,
   "skip_h1_title": false,
   "title_cell": "Table of Contents",
   "title_sidebar": "Contents",
   "toc_cell": false,
   "toc_position": {},
   "toc_section_display": true,
   "toc_window_display": false
  }
 },
 "nbformat": 4,
 "nbformat_minor": 4
}
