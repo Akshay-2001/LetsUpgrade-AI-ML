{
 "cells": [
  {
   "cell_type": "markdown",
   "metadata": {},
   "source": [
    "# Question 1:\n",
    "- Assuming that we have some email addresses in the \"username@companyname.com\" format, please write program\n",
    "to print the company name of a given email address. Both user names and company names are composed of letters\n",
    "only.\n",
    "- Input Format:\n",
    " The first line of the input contains an email address.\n",
    "- Output Format:\n",
    "Print the company name in single line.\n",
    "- Example:\n",
    "- Input:\n",
    "john@google.com\n",
    "- Output:\n",
    "google\n"
   ]
  },
  {
   "cell_type": "code",
   "execution_count": 1,
   "metadata": {
    "tags": []
   },
   "outputs": [
    {
     "name": "stdout",
     "output_type": "stream",
     "text": [
      "enter the email : Akshay@Yahoo.com\n",
      "Name of the comapny is - Yahoo\n"
     ]
    }
   ],
   "source": [
    "def extract_company(email):\n",
    "    index_of_at = email.find('@')\n",
    "\n",
    "    return email[index_of_at+1:email.rfind('.')]\n",
    "e1=str(input(\"enter the email : \"))\n",
    "res=extract_company(e1)\n",
    "print(\"Name of the comapny is -\",res)"
   ]
  },
  {
   "cell_type": "markdown",
   "metadata": {},
   "source": [
    "# Question 2:\n",
    "- Write a program that accepts a comma-separated sequence of words as input and prints the words in a comma\n",
    "separated sequence after sorting them alphabetically.\n",
    "- Input Format:\n",
    "The first line of input contains words separated by the comma.\n",
    "- Output Format:\n",
    "Print the sorted words separated by the comma.\n",
    "- Example:\n",
    "- Input:\n",
    "without,hello,bag,world\n",
    "- Output:\n",
    "bag,hello,without,world"
   ]
  },
  {
   "cell_type": "code",
   "execution_count": 2,
   "metadata": {
    "tags": []
   },
   "outputs": [
    {
     "name": "stdout",
     "output_type": "stream",
     "text": [
      "Enter data to sort - Apple, Lenovo, Gigabyte, Acer, Dell, HP, MSI, Asus\n",
      "\n",
      "Sorted data is -  Acer, Asus, Dell, Gigabyte, HP, Lenovo, MSI,Apple\n"
     ]
    }
   ],
   "source": [
    "items=[x for x in input(\"Enter data to sort - \").split(',')]\n",
    "items.sort()\n",
    "print (\"\\nSorted data is -\",','.join(items))"
   ]
  },
  {
   "cell_type": "markdown",
   "metadata": {},
   "source": [
    "# Question 3:\n",
    "Create your own Jupyter Notebook for Sets.\n",
    "\n",
    "Reference link: https://www.w3schools.com/python/python_sets.asp"
   ]
  },
  {
   "cell_type": "code",
   "execution_count": 3,
   "metadata": {},
   "outputs": [
    {
     "name": "stdout",
     "output_type": "stream",
     "text": [
      "{'kiwi', 'apricot', 'papaya'}\n"
     ]
    }
   ],
   "source": [
    "set1 = {\"papaya\", \"apricot\", \"kiwi\"}\n",
    "print(set1)"
   ]
  },
  {
   "cell_type": "markdown",
   "metadata": {},
   "source": [
    "___Access Items___\n",
    "\n",
    "You cannot access items in a set by referring to an index, since sets are unordered the items has no index.\n",
    "\n",
    "But you can loop through the set items using a for loop, or ask if a specified value is present in a set, by using the in keyword."
   ]
  },
  {
   "cell_type": "code",
   "execution_count": 4,
   "metadata": {},
   "outputs": [
    {
     "name": "stdout",
     "output_type": "stream",
     "text": [
      "Imperial Blue; Royal Stag; Johnnie Walker; "
     ]
    }
   ],
   "source": [
    "set1 = {\"Imperial Blue\", \"Royal Stag\", \"Johnnie Walker\"}\n",
    "\n",
    "for x in set1:\n",
    "  print(x, end = \"; \")"
   ]
  },
  {
   "cell_type": "markdown",
   "metadata": {},
   "source": [
    "___Change Items___\n",
    "\n",
    "Once a set is created, you cannot change its items, but you can add new items.\n",
    "\n",
    "___Add Items___\n",
    "\n",
    "To add one item to a set use the add() method.\n",
    "To add more than one item to a set use the update() method."
   ]
  },
  {
   "cell_type": "code",
   "execution_count": 5,
   "metadata": {},
   "outputs": [
    {
     "name": "stdout",
     "output_type": "stream",
     "text": [
      "{'Ford', 'Aston-Martin', 'Bugatti', 'Mercedes'}\n"
     ]
    }
   ],
   "source": [
    "set1 = {\"Mercedes\", \"Ford\", \"Aston-Martin\"}\n",
    "\n",
    "set1.add(\"Bugatti\")\n",
    "\n",
    "print(set1)\n"
   ]
  },
  {
   "cell_type": "code",
   "execution_count": 6,
   "metadata": {},
   "outputs": [
    {
     "name": "stdout",
     "output_type": "stream",
     "text": [
      "{'Volkswagon', 'Renolt', 'Mercedes', 'Ford', 'Chevorlet', 'Aston-Martin'}\n"
     ]
    }
   ],
   "source": [
    "set1 = {\"Mercedes\", \"Ford\", \"Aston-Martin\"}\n",
    "\n",
    "set1.update([\"Renolt\", \"Volkswagon\", \"Chevorlet\"])\n",
    "\n",
    "print(set1)"
   ]
  },
  {
   "cell_type": "markdown",
   "metadata": {},
   "source": [
    "___Get the Length of a Set___\n",
    "\n",
    "To determine how many items a set has, use the len() method."
   ]
  },
  {
   "cell_type": "code",
   "execution_count": 7,
   "metadata": {},
   "outputs": [
    {
     "name": "stdout",
     "output_type": "stream",
     "text": [
      "6\n"
     ]
    }
   ],
   "source": [
    "set1 = {'Chevorlet', 'Renolt', 'Volkswagon', 'Ford', 'Mercedes', 'Aston-Martin'}\n",
    "\n",
    "print(len(set1))"
   ]
  },
  {
   "cell_type": "markdown",
   "metadata": {},
   "source": [
    "___Remove Item___\n",
    "\n",
    "To remove an item in a set, use the remove(), or the discard() method."
   ]
  },
  {
   "cell_type": "code",
   "execution_count": 8,
   "metadata": {},
   "outputs": [
    {
     "name": "stdout",
     "output_type": "stream",
     "text": [
      "{'Youtube', 'Facebook', 'Instagram'}\n"
     ]
    }
   ],
   "source": [
    "set1 = {\"Instagram\", \"Facebook\", \"Youtube\", \"Tik-tok\"}\n",
    "\n",
    "set1.remove(\"Tik-tok\")\n",
    "\n",
    "print(set1)"
   ]
  },
  {
   "cell_type": "code",
   "execution_count": 9,
   "metadata": {},
   "outputs": [
    {
     "name": "stdout",
     "output_type": "stream",
     "text": [
      "{'Youtube', 'Facebook', 'Instagram'}\n"
     ]
    }
   ],
   "source": [
    "set1 = {\"Instagram\", \"Facebook\", \"Youtube\", \"Tik-tok\"}\n",
    "\n",
    "set1.discard(\"Tik-tok\")\n",
    "\n",
    "print(set1)"
   ]
  },
  {
   "cell_type": "markdown",
   "metadata": {},
   "source": [
    "___pop()___\n",
    "\n",
    "You can also use the pop(), method to remove an item, but this method will remove the last item. Remember that sets are unordered, so you will not know what item that gets removed.\n",
    "\n",
    "The return value of the pop() method is the removed item."
   ]
  },
  {
   "cell_type": "code",
   "execution_count": 10,
   "metadata": {},
   "outputs": [
    {
     "name": "stdout",
     "output_type": "stream",
     "text": [
      "tamil\n",
      "{'english', 'hindi', 'kannada', 'telugu'}\n"
     ]
    }
   ],
   "source": [
    "set1 = {\"kannada\", \"telugu\", \"tamil\", \"hindi\", \"english\"}\n",
    "\n",
    "x = set1.pop()\n",
    "\n",
    "print(x)\n",
    "\n",
    "print(set1)"
   ]
  },
  {
   "cell_type": "markdown",
   "metadata": {},
   "source": [
    "___clear()___\n",
    "The clear() method empties the set:"
   ]
  },
  {
   "cell_type": "code",
   "execution_count": 11,
   "metadata": {},
   "outputs": [
    {
     "name": "stdout",
     "output_type": "stream",
     "text": [
      "set()\n"
     ]
    }
   ],
   "source": [
    "set1 = {\"ravana\", \"kamsa\", \"duryodhan\", \"dushasana\"}\n",
    "\n",
    "set1.clear()\n",
    "\n",
    "print(set1)"
   ]
  },
  {
   "cell_type": "markdown",
   "metadata": {},
   "source": [
    "The del keyword will delete the set completely:"
   ]
  },
  {
   "cell_type": "code",
   "execution_count": 12,
   "metadata": {},
   "outputs": [
    {
     "ename": "NameError",
     "evalue": "name 'set1' is not defined",
     "output_type": "error",
     "traceback": [
      "\u001b[1;31m---------------------------------------------------------------------------\u001b[0m",
      "\u001b[1;31mNameError\u001b[0m                                 Traceback (most recent call last)",
      "\u001b[1;32m<ipython-input-12-8c0b3b8c0ea1>\u001b[0m in \u001b[0;36m<module>\u001b[1;34m\u001b[0m\n\u001b[0;32m      3\u001b[0m \u001b[1;32mdel\u001b[0m \u001b[0mset1\u001b[0m\u001b[1;33m\u001b[0m\u001b[1;33m\u001b[0m\u001b[0m\n\u001b[0;32m      4\u001b[0m \u001b[1;33m\u001b[0m\u001b[0m\n\u001b[1;32m----> 5\u001b[1;33m \u001b[0mprint\u001b[0m\u001b[1;33m(\u001b[0m\u001b[0mset1\u001b[0m\u001b[1;33m)\u001b[0m\u001b[1;33m\u001b[0m\u001b[1;33m\u001b[0m\u001b[0m\n\u001b[0m",
      "\u001b[1;31mNameError\u001b[0m: name 'set1' is not defined"
     ]
    }
   ],
   "source": [
    "set1 = {\"dushman\", \"vairi\", \"shatru\"}\n",
    "\n",
    "del set1\n",
    "\n",
    "print(set1)"
   ]
  },
  {
   "cell_type": "markdown",
   "metadata": {},
   "source": [
    "___Join Two Sets___\n",
    "\n",
    "There are several ways to join two or more sets in Python.\n",
    "\n",
    "You can use the union() method that returns a new set containing all items from both sets, or the update() method that inserts all the items from one set into another:"
   ]
  },
  {
   "cell_type": "code",
   "execution_count": 13,
   "metadata": {},
   "outputs": [
    {
     "name": "stdout",
     "output_type": "stream",
     "text": [
      "{'Alladin', 'Commando', 'Grude', 'Golmaal', 'Lake Placid', 'Housefull'}\n"
     ]
    }
   ],
   "source": [
    "set1 = {\"Commando\", \"Housefull\" , \"Golmaal\"}\n",
    "set2 = {\"Grude\", \"Lake Placid\",\"Alladin\" }\n",
    "\n",
    "set3 = set1.union(set2)\n",
    "print(set3)"
   ]
  },
  {
   "cell_type": "code",
   "execution_count": 14,
   "metadata": {},
   "outputs": [
    {
     "name": "stdout",
     "output_type": "stream",
     "text": [
      "{'abc', 1, 2, 3, 'bcd', 'wii'}\n"
     ]
    }
   ],
   "source": [
    "set1 = {'abc','bcd','wii'}\n",
    "set2 = {1, 2, 3}\n",
    "set1.update(set2)\n",
    "print(set1)"
   ]
  },
  {
   "cell_type": "markdown",
   "metadata": {},
   "source": [
    "___The set() Constructor___\n",
    "\n",
    "It is also possible to use the set() constructor to make a set."
   ]
  },
  {
   "cell_type": "code",
   "execution_count": 15,
   "metadata": {},
   "outputs": [
    {
     "name": "stdout",
     "output_type": "stream",
     "text": [
      "{'cherry', 'apple', 'banana'}\n"
     ]
    }
   ],
   "source": [
    "thisset = set((\"apple\", \"banana\", \"cherry\")) # note the double round-brackets\n",
    "print(thisset)"
   ]
  },
  {
   "cell_type": "markdown",
   "metadata": {},
   "source": [
    "___copy() Method___\n"
   ]
  },
  {
   "cell_type": "code",
   "execution_count": 16,
   "metadata": {},
   "outputs": [
    {
     "name": "stdout",
     "output_type": "stream",
     "text": [
      "x = {'Titan', 'Fastrack', 'Casio'}\n"
     ]
    }
   ],
   "source": [
    "watches = {\"Fastrack\", \"Titan\", \"Casio\"}\n",
    "x = watches.copy()\n",
    "print(\"x =\",x)"
   ]
  },
  {
   "cell_type": "markdown",
   "metadata": {},
   "source": [
    "___Set difference_update() Method___\n"
   ]
  },
  {
   "cell_type": "code",
   "execution_count": 17,
   "metadata": {},
   "outputs": [
    {
     "name": "stdout",
     "output_type": "stream",
     "text": [
      "{'Ubuntu', 'Mac OS'}\n"
     ]
    }
   ],
   "source": [
    "x = {\"Mac OS\", \"Linux\", \"Ubuntu\"}\n",
    "y = {\"Windows\", \"Android\", \"Linux\"}\n",
    "x.difference_update(y)\n",
    "print(x)"
   ]
  },
  {
   "cell_type": "markdown",
   "metadata": {},
   "source": [
    "___intersection() Method___"
   ]
  },
  {
   "cell_type": "code",
   "execution_count": 18,
   "metadata": {},
   "outputs": [
    {
     "name": "stdout",
     "output_type": "stream",
     "text": [
      "{'apple'}\n"
     ]
    }
   ],
   "source": [
    "x = {\"apple\", \"pineapple\", \"cranberry\"}\n",
    "y = {\"sugar bear\", \"apple\", \"blueberry\"}\n",
    "z = x.intersection(y)\n",
    "print(z)"
   ]
  },
  {
   "cell_type": "markdown",
   "metadata": {},
   "source": [
    "___isdisjoint() Method___"
   ]
  },
  {
   "cell_type": "code",
   "execution_count": 19,
   "metadata": {},
   "outputs": [
    {
     "name": "stdout",
     "output_type": "stream",
     "text": [
      "True\n"
     ]
    }
   ],
   "source": [
    "x = {\"apple\", \"papaya\", \"berry\"}\n",
    "y = {\"google\", \"microsoft\", \"facebook\"}\n",
    "z = x.isdisjoint(y)\n",
    "print(z)"
   ]
  },
  {
   "cell_type": "markdown",
   "metadata": {},
   "source": [
    "___symmetric_difference()___"
   ]
  },
  {
   "cell_type": "code",
   "execution_count": 20,
   "metadata": {},
   "outputs": [
    {
     "name": "stdout",
     "output_type": "stream",
     "text": [
      "{'cherry', 'banana', 'bosch', 'cisco'}\n"
     ]
    }
   ],
   "source": [
    "x = {\"apple\", \"banana\", \"cherry\"}\n",
    "y = {\"cisco\", \"bosch\", \"apple\"}\n",
    "z = x.symmetric_difference(y)\n",
    "print(z)"
   ]
  },
  {
   "cell_type": "markdown",
   "metadata": {},
   "source": [
    "# Question 4:\n",
    "- Given a list of n-1 numbers ranging from 1 to n, your task is to find the missing number. There are no duplicates.\n",
    "- Input Format:\n",
    "The first line contains n-1 numbers with each number separated by a space.\n",
    "- Output Format:\n",
    "Print the missing number\n",
    "- Example:\n",
    "*    Input:1 2 4 6 3 7 8\n",
    "*    Output:5\n",
    "- Explanation:\n",
    "In the above list of numbers 5 is missing and hence 5 is the input"
   ]
  },
  {
   "cell_type": "code",
   "execution_count": 21,
   "metadata": {
    "tags": []
   },
   "outputs": [
    {
     "name": "stdout",
     "output_type": "stream",
     "text": [
      "[11, 12, 13, 14, 15, 16, 17, 18, 19, 20, 22, 24, 25, 26, 28, 29, 31, 32, 34]\n"
     ]
    }
   ],
   "source": [
    "def find_missing(lst): \n",
    "    return [x for x in range(lst[0], lst[-1]+1)  \n",
    "                               if x not in lst] \n",
    "  \n",
    "# Driver code \n",
    "lst = [10, 21, 23, 27, 30, 33, 35] \n",
    "print(find_missing(lst)) "
   ]
  },
  {
   "cell_type": "markdown",
   "metadata": {},
   "source": [
    "# Question 5:\n",
    "- With a given list L, write a program to print this list L after removing all duplicate values with original order reserved.\n",
    "- Example:\n",
    "- If the input list is\n",
    "12 24 35 24 88 120 155 88 120 155\n",
    "- Then the output should be\n",
    "12 24 35 88 120 155\n",
    "- Explanation:\n",
    "- Third, seventh and ninth element of the list L has been removed because it was already present.\n",
    "- Input Format:\n",
    "- In one line take the elements of the list L with each element separated by a space.\n",
    "- Output Format:\n",
    "- Print the elements of the modified list in one line with each element separated by a space.\n",
    "- Example:\n",
    "- Input: 12 24 35 24\n",
    "- Output:\n",
    "12 24 35\n"
   ]
  },
  {
   "cell_type": "code",
   "execution_count": 22,
   "metadata": {
    "tags": []
   },
   "outputs": [
    {
     "name": "stdout",
     "output_type": "stream",
     "text": [
      "[2, 7, 57, 98, 57, 2, 23, 4, 23, 98]\n",
      "[2, 7, 57, 98, 23, 4]\n"
     ]
    }
   ],
   "source": [
    "def Remove(duplicate): \n",
    "    final_list = [] \n",
    "    for num in duplicate: \n",
    "        if num not in final_list: \n",
    "            final_list.append(num) \n",
    "    return final_list \n",
    "      \n",
    "# Driver Code\n",
    "duplicate = [2,7,57,98,57,2,23,4,23,98] \n",
    "print(duplicate) \n",
    "print(Remove(duplicate)) "
   ]
  }
 ],
 "metadata": {
  "kernelspec": {
   "display_name": "Python 3",
   "language": "python",
   "name": "python3"
  },
  "language_info": {
   "codemirror_mode": {
    "name": "ipython",
    "version": 3
   },
   "file_extension": ".py",
   "mimetype": "text/x-python",
   "name": "python",
   "nbconvert_exporter": "python",
   "pygments_lexer": "ipython3",
   "version": "3.7.6"
  },
  "toc": {
   "base_numbering": 1,
   "nav_menu": {},
   "number_sections": true,
   "sideBar": true,
   "skip_h1_title": false,
   "title_cell": "Table of Contents",
   "title_sidebar": "Contents",
   "toc_cell": false,
   "toc_position": {},
   "toc_section_display": true,
   "toc_window_display": false
  }
 },
 "nbformat": 4,
 "nbformat_minor": 2
}
