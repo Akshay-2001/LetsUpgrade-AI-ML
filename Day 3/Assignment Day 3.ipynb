{
 "cells": [
  {
   "cell_type": "markdown",
   "metadata": {},
   "source": [
    "__Question 1:__\n",
    "Write a program to subtract two complex numbers in python"
   ]
  },
  {
   "cell_type": "code",
   "execution_count": 1,
   "metadata": {},
   "outputs": [
    {
     "name": "stdout",
     "output_type": "stream",
     "text": [
      "c = (2-9j)\n"
     ]
    }
   ],
   "source": [
    "a = 2+3j\n",
    "b = 4-6j\n",
    "c = b-a\n",
    "print(\"c =\",c)"
   ]
  },
  {
   "cell_type": "markdown",
   "metadata": {},
   "source": [
    "__Question 2:__ Write a program to find the fourth root of a numbers"
   ]
  },
  {
   "cell_type": "code",
   "execution_count": 2,
   "metadata": {},
   "outputs": [
    {
     "name": "stdout",
     "output_type": "stream",
     "text": [
      "Enter the number whose fourth root has to be calculated : 16\n",
      "The fourth root of the given number is : 2.0\n"
     ]
    }
   ],
   "source": [
    "n = int(input(\"Enter the number whose fourth root has to be calculated : \"))\n",
    "fourth_root = n**(1/4)\n",
    "print(\"The fourth root of the given number is :\",fourth_root)"
   ]
  },
  {
   "cell_type": "markdown",
   "metadata": {},
   "source": [
    "__Question 3:__ Write a program to swap two numbers in Python with the help of a temporary variable"
   ]
  },
  {
   "cell_type": "code",
   "execution_count": 3,
   "metadata": {},
   "outputs": [
    {
     "name": "stdout",
     "output_type": "stream",
     "text": [
      "Enter value of x: 5\n",
      "Enter value of y: 6\n",
      "The value of x and y after swapping are 6 and 5 respectively\n"
     ]
    }
   ],
   "source": [
    "# Python program to swap two variables\n",
    "# To take inputs from the user\n",
    "x = int(input('Enter value of x: '))\n",
    "y = int(input('Enter value of y: '))\n",
    "\n",
    "# create a temporary variable and swap the values\n",
    "temp = x\n",
    "x = y\n",
    "y = temp\n",
    "print(\"The value of x and y after swapping are\",x,\"and\",y,\"respectively\")"
   ]
  },
  {
   "cell_type": "markdown",
   "metadata": {},
   "source": [
    "__Question 4:__ Write a program to swap two numbers in Python without the help of a temporary variable"
   ]
  },
  {
   "cell_type": "code",
   "execution_count": 4,
   "metadata": {},
   "outputs": [
    {
     "name": "stdout",
     "output_type": "stream",
     "text": [
      "Enter value of x: 5\n",
      "Enter value of y: 6\n",
      "The value of x and y after swapping are 6 and 5 respectively\n"
     ]
    }
   ],
   "source": [
    "# Python program to swap two variables\n",
    "# To take inputs from the user\n",
    "x = int(input('Enter value of x: '))\n",
    "y = int(input('Enter value of y: '))\n",
    "x, y = y, x\n",
    "print(\"The value of x and y after swapping are\",x,\"and\",y,\"respectively\")"
   ]
  },
  {
   "cell_type": "markdown",
   "metadata": {},
   "source": [
    "__Question 5:__ Write a program to convert fahrenheit to kelvin and celsius both."
   ]
  },
  {
   "cell_type": "code",
   "execution_count": 5,
   "metadata": {},
   "outputs": [
    {
     "name": "stdout",
     "output_type": "stream",
     "text": [
      "Enter Temperature in Fahrenheit scale: 100\n",
      "The value of Fahrenheit in Kelvin scale and Celsius scale is 311.27777777777777 and 37.77777777777778 respectively.\n"
     ]
    }
   ],
   "source": [
    "# Python program to convert temperature from Fahrenheit to Kelvin and Celsius\n",
    "F = int(input('Enter Temperature in Fahrenheit scale: '))\n",
    "#function to convert fahrenheit to celsius\n",
    "def Fahrenheit_to_Celsius(F): \n",
    "    return ((F - 32.0) * (5.0/9.0))\n",
    "#function to convert fahrenheit to kelvin\n",
    "def Fahrenheit_to_Kelvin(F): \n",
    "    x = 273.5 + ((F - 32.0) * (5.0/9.0)) \n",
    "    return x\n",
    "print(\"The value of Fahrenheit in Kelvin scale and Celsius scale is\", Fahrenheit_to_Kelvin(F) ,\"and\", Fahrenheit_to_Celsius(F), \"respectively.\")"
   ]
  },
  {
   "cell_type": "markdown",
   "metadata": {},
   "source": [
    "__Question 6:__ Write a program to demonstrate all the available data types in Python. Hint: Use type() function."
   ]
  },
  {
   "cell_type": "code",
   "execution_count": 6,
   "metadata": {},
   "outputs": [
    {
     "name": "stdout",
     "output_type": "stream",
     "text": [
      "5 is of type  <class 'int'>\n",
      "2.0 is of type  <class 'float'>\n",
      "(1+2j) is of type  <class 'complex'>\n",
      "(1, 0, 0) is of type  <class 'tuple'>\n",
      "[1, 3.14, 'hello_world', 2.34, 12, 34] is of type  <class 'list'>\n",
      "{1: 'one', 2: 'two', 3: 'three', 4: 'four'} is of type  <class 'dict'>\n"
     ]
    }
   ],
   "source": [
    "a = 5\n",
    "print(a  , \"is of type \", type(a))\n",
    "\n",
    "a = 2.0\n",
    "print(a  , \"is of type \", type(a))\n",
    "\n",
    "a = 1+2j\n",
    "print(a  , \"is of type \", type(a))\n",
    "\n",
    "a = 1,00,000\n",
    "print(a  , \"is of type \", type(a))\n",
    "\n",
    "a = [1,3.14,'hello_world',2.34,12,34]\n",
    "print(a  , \"is of type \", type(a))\n",
    "\n",
    "a = {1:'one',2:'two',3:'three',4:'four'}\n",
    "print(a  , \"is of type \", type(a))"
   ]
  },
  {
   "cell_type": "markdown",
   "metadata": {},
   "source": [
    "__Question 7:__ Create a Markdown cell in jupyter and list the steps discussed in the session by Dr. Darshan\n",
    "Ingle sir to create Github profile and upload Githubs Assignment link."
   ]
  },
  {
   "cell_type": "markdown",
   "metadata": {},
   "source": [
    "***To create Github profile and upload Githubs Assignment link.***\n",
    "\n",
    "\n",
    "***Creating Github profile**\n",
    "- Go to github.com\n",
    "- Sign up (or existing users can sign in)\n",
    "- Complete the formalities like providing e-mail id and necessary details to create an account (i.e., signing in through gmail account)\n",
    "- here you can keep ur code as pulic or private\n",
    "- keep public\n",
    "\n",
    "*On creating Github profile, inorder to putup ur code and assignment, read the following steps* \n",
    " \n",
    "***How to submit Assignments?***\n",
    "\n",
    "- Create a github public repo and name it ***LetsUpgrade AI/ML***\n",
    "- Upload the files/solution in the repo in day wise manner.\n",
    "- Copy the url of the Folder of that day and paste in the Assignment Submission Form (Google Form) which will be mentioned in this section after the class.\n",
    "- Make sure you are filling correct details in the Assignment Submission Form.\n",
    "- You have to upload the assignment solutions to your Github profile and submit the URL to us."
   ]
  }
 ],
 "metadata": {
  "kernelspec": {
   "display_name": "Python 3",
   "language": "python",
   "name": "python3"
  },
  "language_info": {
   "codemirror_mode": {
    "name": "ipython",
    "version": 3
   },
   "file_extension": ".py",
   "mimetype": "text/x-python",
   "name": "python",
   "nbconvert_exporter": "python",
   "pygments_lexer": "ipython3",
   "version": "3.7.6"
  }
 },
 "nbformat": 4,
 "nbformat_minor": 4
}
