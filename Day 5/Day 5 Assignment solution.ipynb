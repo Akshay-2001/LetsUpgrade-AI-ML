{
 "cells": [
  {
   "cell_type": "markdown",
   "metadata": {},
   "source": [
    "___Question 1___:\n",
    "Write a Python program to find the first 20 non-even prime natural numbers."
   ]
  },
  {
   "cell_type": "code",
   "execution_count": 1,
   "metadata": {},
   "outputs": [
    {
     "name": "stdout",
     "output_type": "stream",
     "text": [
      "how many non- even prime numbers would you like to print from the begining ? 20\n",
      "\n",
      "Here are the first 20 prime numbers :\n",
      "\n",
      "3  5  7  11  13  17  19  23  29  31  37  41  43  47  53  59  61  67  71  73  79  83  "
     ]
    }
   ],
   "source": [
    "n = int(input(\"how many non- even prime numbers would you like to print from the begining ? \"))\n",
    "nos = range(1, n*10)\n",
    "prime = []\n",
    "\n",
    "for num in nos:\n",
    "    if num > 2 and len(prime) <= n+1:\n",
    "        for i in range(2, num):\n",
    "            if (num % i) == 0:\n",
    "                break\n",
    "            \n",
    "        else:\n",
    "            prime.append(num)\n",
    "                \n",
    "print (\"\\nHere are the first\",n,\"prime numbers :\\n\")\n",
    "for x in prime:\n",
    "    print(x, end =\"  \")"
   ]
  },
  {
   "cell_type": "markdown",
   "metadata": {},
   "source": [
    "___Question 2___:\n",
    "Write a Python program to implement 15 functions of string."
   ]
  },
  {
   "cell_type": "code",
   "execution_count": 2,
   "metadata": {},
   "outputs": [
    {
     "name": "stdout",
     "output_type": "stream",
     "text": [
      "length of string : 57\n",
      "000This Lockdown Has Given Us A Great Opportunity To Improve\n",
      "##This Lockdown Has Given Us A Great Opportunity To Improve##\n",
      "['This', 'Lockdown', 'Has', 'Given', 'Us', 'A', 'Great', 'Opportunity', 'To', 'Improve']\n",
      "This lockdown has given us a great opportunity to improve\n",
      "this lockdown has given us a great opportunity to improve\n",
      "True\n",
      "is the case of book title? False\n",
      "T h e   o a t h   o f   v a y u p u t r a s\n",
      "s a r t u p u y a v   f o   h t a o   e h T\n",
      "A Really Short Poem With Quite A Long Title\n",
      "37\n",
      "tHiS sHoUlD bE mIxEd CaSeD.\n",
      "2\n",
      "length of string 3 : 44\n",
      "a is present at 8 th position from the left hand side\n",
      "('Letsupgrade ', 'is ', 'a great platform for learning')\n",
      "Letsupgrade is a great platform for learning\n"
     ]
    }
   ],
   "source": [
    "string=\"This Lockdown Has Given Us A Great Opportunity To Improve\"\n",
    "print(\"length of string :\",len(string)) #To find the length of the string.\n",
    "print(string.zfill(60)) #Fills the string with a specified number of 0 values at the beginning in this case 3\n",
    "print(string.center(61,\"#\")) #Centers the given string by printing the charachter in the paranthesis\n",
    "print(string.split()) #Splits the string into pieces of the string.\n",
    "print(string.capitalize()) #Converts string into upper case\n",
    "print(string.casefold()) #Converts string into lower case\n",
    "print(string.isprintable()) # Returns True if all characters in the string are printable\n",
    "poem = \"A Really Short Poem With Quit A Long Title\"\n",
    "book = \"The oath of vayuputras\"\n",
    "print(\"is the case of book title?\",book.istitle()) # Returns True if the string follows the rules of a title\n",
    "print(\" \".join(book)) #Joins the elements of an iterable to the end of the string\n",
    "print(\" \".join((reversed(book)))) #Joins the elements of an iterable to the end of the string\n",
    "print(poem.replace(\"Quit\",\"Quite\")) #Returns a string where a specified value is replaced with a specified value\n",
    "print(poem.index('Title')) #Searches the string for a specified value and returns the position of where it was found\n",
    "string2 = \"ThIs ShOuLd Be MiXeD cAsEd.\"\n",
    "print(string2.swapcase()) #Swaps cases, lower case becomes upper case and vice versa\n",
    "print(string2.count(\"e\")) #Returns the number of times a specified value occurs in a string\n",
    "string3 = \"Letsupgrade is a great platform for learning\"\n",
    "print(\"length of string 3 :\",len(string3))\n",
    "x = string3.find('a')\n",
    "print(\"a is present at\",x,\"th position from the left hand side\")\n",
    "print(string3.partition('is ')) #used to partition the string\n",
    "print(string3.strip(' platfrom ')) #Returns a trimmed version of the string"
   ]
  },
  {
   "cell_type": "markdown",
   "metadata": {},
   "source": [
    "___Question 3___:\n",
    "Write a Python program to check if the given string is a Palindrome or Anagram or None of them. Display the message accordingly to the user."
   ]
  },
  {
   "cell_type": "code",
   "execution_count": 3,
   "metadata": {},
   "outputs": [
    {
     "name": "stdout",
     "output_type": "stream",
     "text": [
      "String 1 : akshay\n",
      "String 2 : runner\n",
      "The given strings are not anagrams\n",
      "String 1 is not a palindrome\n",
      "String 2 is not a palindrome\n"
     ]
    }
   ],
   "source": [
    "def Palindrome(s1): \n",
    "    if (s1 == s1[::-1]):\n",
    "        return True\n",
    "    else :\n",
    "        return False\n",
    "def Anagram(s1, s2):\n",
    "    if sorted(s1)==sorted(s2):\n",
    "        return True\n",
    "    else :\n",
    "        return False\n",
    "\n",
    "s1 = str(input(\"String 1 : \"))\n",
    "s2 = str(input(\"String 2 : \"))\n",
    "x = Palindrome(s1)\n",
    "z = Palindrome(s2)\n",
    "y = Anagram(s1, s2)\n",
    "\n",
    "\n",
    "if y == True:\n",
    "    print(\"Both the strings are anagrams \")\n",
    "else :\n",
    "    print(\"The given strings are not anagrams\")\n",
    "if x == True:\n",
    "    print(\"String 1 is a palindrome\")\n",
    "else:\n",
    "    print(\"String 1 is not a palindrome\")\n",
    "if z == True:\n",
    "    print(\"String 2 is a palindrome\")\n",
    "else:\n",
    "    print(\"String 2 is not a palindrome\")"
   ]
  },
  {
   "cell_type": "code",
   "execution_count": 4,
   "metadata": {},
   "outputs": [
    {
     "name": "stdout",
     "output_type": "stream",
     "text": [
      "String 1 : adda\n",
      "String 2 : dada\n",
      "Both the strings are anagrams \n",
      "String 1 is a palindrome\n",
      "String 2 is not a palindrome\n"
     ]
    }
   ],
   "source": [
    "def Palindrome(s1): \n",
    "    if (s1 == s1[::-1]):\n",
    "        return True\n",
    "    else :\n",
    "        return False\n",
    "def Anagram(s1, s2):\n",
    "    if sorted(s1)==sorted(s2):\n",
    "        return True\n",
    "    else :\n",
    "        return False\n",
    "\n",
    "s1 = str(input(\"String 1 : \"))\n",
    "s2 = str(input(\"String 2 : \"))\n",
    "x = Palindrome(s1)\n",
    "z = Palindrome(s2)\n",
    "y = Anagram(s1, s2)\n",
    "\n",
    "\n",
    "if y == True:\n",
    "    print(\"Both the strings are anagrams \")\n",
    "else :\n",
    "    print(\"The given strings are not anagrams\")\n",
    "if x == True:\n",
    "    print(\"String 1 is a palindrome\")\n",
    "else:\n",
    "    print(\"String 1 is not a palindrome\")\n",
    "if z == True:\n",
    "    print(\"String 2 is a palindrome\")\n",
    "else:\n",
    "    print(\"String 2 is not a palindrome\")"
   ]
  },
  {
   "cell_type": "markdown",
   "metadata": {},
   "source": [
    "___Question 4___:\n",
    "Write a Python's user defined function that removes all the additional characters from the string and converts it finally to lower case using built-in lower(). eg: If the string is \"Dr. Darshan Ingle @AI-ML Trainer\", then the output be \"drdarshaningleaimltrainer\"."
   ]
  },
  {
   "cell_type": "code",
   "execution_count": 5,
   "metadata": {},
   "outputs": [],
   "source": [
    "def giveInput(temp):\n",
    "    def input_string():\n",
    "        user_input = input(\"enter string : \\n\")\n",
    "        temp(user_input)\n",
    "    return input_string"
   ]
  },
  {
   "cell_type": "code",
   "execution_count": 6,
   "metadata": {},
   "outputs": [
    {
     "name": "stdout",
     "output_type": "stream",
     "text": [
      "enter string : \n",
      "Akshay_is ()studying@RNSIT+_+Engineering}College:)\n",
      "The altered string is :   akshayisstudyingrnsitengineeringcollege\n"
     ]
    }
   ],
   "source": [
    "@giveInput\n",
    "\n",
    "def func1(user_input):\n",
    "    '''\n",
    "    This is a user defined function to remove all additional characters from the string and to convert it to lower case using built in lower().\n",
    "    '''\n",
    "    x = \"\"\n",
    "    for i in user_input:\n",
    "        if i.isalpha():\n",
    "            x += i        \n",
    "    print(\"The altered string is :  \",x.lower())\n",
    "func1()"
   ]
  }
 ],
 "metadata": {
  "kernelspec": {
   "display_name": "Python 3",
   "language": "python",
   "name": "python3"
  },
  "language_info": {
   "codemirror_mode": {
    "name": "ipython",
    "version": 3
   },
   "file_extension": ".py",
   "mimetype": "text/x-python",
   "name": "python",
   "nbconvert_exporter": "python",
   "pygments_lexer": "ipython3",
   "version": "3.7.6"
  },
  "toc": {
   "base_numbering": 1,
   "nav_menu": {},
   "number_sections": true,
   "sideBar": true,
   "skip_h1_title": false,
   "title_cell": "Table of Contents",
   "title_sidebar": "Contents",
   "toc_cell": false,
   "toc_position": {},
   "toc_section_display": true,
   "toc_window_display": false
  }
 },
 "nbformat": 4,
 "nbformat_minor": 4
}
