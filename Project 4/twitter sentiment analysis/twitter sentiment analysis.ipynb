{
 "cells": [
  {
   "cell_type": "code",
   "execution_count": 1,
   "metadata": {},
   "outputs": [
    {
     "name": "stdout",
     "output_type": "stream",
     "text": [
      "Requirement already satisfied: tweepy in c:\\users\\akshay\\anaconda3\\lib\\site-packages (3.9.0)\n",
      "Requirement already satisfied: six>=1.10.0 in c:\\users\\akshay\\anaconda3\\lib\\site-packages (from tweepy) (1.15.0)\n",
      "Requirement already satisfied: requests-oauthlib>=0.7.0 in c:\\users\\akshay\\anaconda3\\lib\\site-packages (from tweepy) (1.3.0)\n",
      "Requirement already satisfied: requests[socks]>=2.11.1 in c:\\users\\akshay\\anaconda3\\lib\\site-packages (from tweepy) (2.24.0)\n",
      "Requirement already satisfied: oauthlib>=3.0.0 in c:\\users\\akshay\\anaconda3\\lib\\site-packages (from requests-oauthlib>=0.7.0->tweepy) (3.1.0)\n",
      "Requirement already satisfied: chardet<4,>=3.0.2 in c:\\users\\akshay\\anaconda3\\lib\\site-packages (from requests[socks]>=2.11.1->tweepy) (3.0.4)\n",
      "Requirement already satisfied: certifi>=2017.4.17 in c:\\users\\akshay\\anaconda3\\lib\\site-packages (from requests[socks]>=2.11.1->tweepy) (2020.6.20)\n",
      "Requirement already satisfied: urllib3!=1.25.0,!=1.25.1,<1.26,>=1.21.1 in c:\\users\\akshay\\anaconda3\\lib\\site-packages (from requests[socks]>=2.11.1->tweepy) (1.25.11)\n",
      "Requirement already satisfied: idna<3,>=2.5 in c:\\users\\akshay\\anaconda3\\lib\\site-packages (from requests[socks]>=2.11.1->tweepy) (2.10)\n",
      "Requirement already satisfied: PySocks!=1.5.7,>=1.5.6; extra == \"socks\" in c:\\users\\akshay\\anaconda3\\lib\\site-packages (from requests[socks]>=2.11.1->tweepy) (1.7.1)\n",
      "Note: you may need to restart the kernel to use updated packages.\n"
     ]
    }
   ],
   "source": [
    "pip install tweepy"
   ]
  },
  {
   "cell_type": "code",
   "execution_count": 2,
   "metadata": {},
   "outputs": [
    {
     "name": "stdout",
     "output_type": "stream",
     "text": [
      "Requirement already satisfied: openpyxl in c:\\users\\akshay\\anaconda3\\lib\\site-packages (3.0.5)\n",
      "Requirement already satisfied: jdcal in c:\\users\\akshay\\anaconda3\\lib\\site-packages (from openpyxl) (1.4.1)\n",
      "Requirement already satisfied: et-xmlfile in c:\\users\\akshay\\anaconda3\\lib\\site-packages (from openpyxl) (1.0.1)\n"
     ]
    }
   ],
   "source": [
    "!pip install openpyxl"
   ]
  },
  {
   "cell_type": "code",
   "execution_count": 3,
   "metadata": {},
   "outputs": [],
   "source": [
    "import numpy as np\n",
    "import pandas as pd\n",
    "import tweepy\n",
    "import json\n",
    "from tweepy import OAuthHandler"
   ]
  },
  {
   "cell_type": "code",
   "execution_count": 4,
   "metadata": {},
   "outputs": [],
   "source": [
    "consumer_key = \"N9g5wixMKExF5P7ttUFikHKOG\"\n",
    "consumer_secret = \"lr4GNNRzLCeFXLHjtmAEj7UhpzOHGJdxW5md7keMsjJ6nosU6R\"\n",
    "access_token = \"3782710574-MgB8zEciKxcor04F0vyCYBneyeySTmo7xG20Iep\"\n",
    "access_token_secret = \"jAMfVwNlMjqldnywcDqugkl3Z7RhaemGyxReWAHk4YkYn\""
   ]
  },
  {
   "cell_type": "code",
   "execution_count": 5,
   "metadata": {},
   "outputs": [],
   "source": [
    "auth = tweepy.OAuthHandler( consumer_key , consumer_secret )\n",
    "auth.set_access_token( access_token , access_token_secret )\n",
    "api = tweepy.API(auth)"
   ]
  },
  {
   "cell_type": "code",
   "execution_count": 6,
   "metadata": {},
   "outputs": [],
   "source": [
    "query = \"MI winning IPL\""
   ]
  },
  {
   "cell_type": "code",
   "execution_count": 7,
   "metadata": {},
   "outputs": [],
   "source": [
    "Tweets = api.search( query , count=10 , lang='en' , exclude='retweets' , tweet_mode='extended' )\n",
    "# tweet_mode='extended'\n",
    "# tweet_mode='compat'"
   ]
  },
  {
   "cell_type": "code",
   "execution_count": 8,
   "metadata": {},
   "outputs": [
    {
     "name": "stdout",
     "output_type": "stream",
     "text": [
      "Status(_api=<tweepy.api.API object at 0x00000244D6E13888>, _json={'created_at': 'Sat Nov 21 15:48:04 +0000 2020', 'id': 1330176160878243840, 'id_str': '1330176160878243840', 'full_text': \"@Its_SakshamR @weirdly_myselff @mufaddal_vohra As Rohit say mi team not become strong over night they build it by over the years.Waht kholi did to RCB the don't see any chance of winning ipl with with this team or with virat captaincy.And chnage your Rcb slogan to agli sal cup namde whatever because you guys are not gonna win\", 'truncated': False, 'display_text_range': [47, 327], 'entities': {'hashtags': [], 'symbols': [], 'user_mentions': [{'screen_name': 'Its_SakshamR', 'name': '```~_Saksham_~```', 'id': 1244234176426983424, 'id_str': '1244234176426983424', 'indices': [0, 13]}, {'screen_name': 'weirdly_myselff', 'name': 'shakti', 'id': 882134358, 'id_str': '882134358', 'indices': [14, 30]}, {'screen_name': 'mufaddal_vohra', 'name': 'Mufaddal Vohra', 'id': 3133996860, 'id_str': '3133996860', 'indices': [31, 46]}], 'urls': []}, 'metadata': {'iso_language_code': 'en', 'result_type': 'recent'}, 'source': '<a href=\"http://twitter.com/download/android\" rel=\"nofollow\">Twitter for Android</a>', 'in_reply_to_status_id': 1330171707223584769, 'in_reply_to_status_id_str': '1330171707223584769', 'in_reply_to_user_id': 1244234176426983424, 'in_reply_to_user_id_str': '1244234176426983424', 'in_reply_to_screen_name': 'Its_SakshamR', 'user': {'id': 4647812568, 'id_str': '4647812568', 'name': 'SAMAR', 'screen_name': 'msamar382', 'location': 'India', 'description': '', 'url': None, 'entities': {'description': {'urls': []}}, 'protected': False, 'followers_count': 19, 'friends_count': 260, 'listed_count': 0, 'created_at': 'Fri Dec 25 07:25:02 +0000 2015', 'favourites_count': 7093, 'utc_offset': None, 'time_zone': None, 'geo_enabled': False, 'verified': False, 'statuses_count': 922, 'lang': None, 'contributors_enabled': False, 'is_translator': False, 'is_translation_enabled': False, 'profile_background_color': 'F5F8FA', 'profile_background_image_url': None, 'profile_background_image_url_https': None, 'profile_background_tile': False, 'profile_image_url': 'http://pbs.twimg.com/profile_images/1323331370244993024/9p59c-v__normal.jpg', 'profile_image_url_https': 'https://pbs.twimg.com/profile_images/1323331370244993024/9p59c-v__normal.jpg', 'profile_banner_url': 'https://pbs.twimg.com/profile_banners/4647812568/1604341957', 'profile_link_color': '1DA1F2', 'profile_sidebar_border_color': 'C0DEED', 'profile_sidebar_fill_color': 'DDEEF6', 'profile_text_color': '333333', 'profile_use_background_image': True, 'has_extended_profile': True, 'default_profile': True, 'default_profile_image': False, 'following': False, 'follow_request_sent': False, 'notifications': False, 'translator_type': 'none'}, 'geo': None, 'coordinates': None, 'place': None, 'contributors': None, 'is_quote_status': False, 'retweet_count': 0, 'favorite_count': 0, 'favorited': False, 'retweeted': False, 'lang': 'en'}, created_at=datetime.datetime(2020, 11, 21, 15, 48, 4), id=1330176160878243840, id_str='1330176160878243840', full_text=\"@Its_SakshamR @weirdly_myselff @mufaddal_vohra As Rohit say mi team not become strong over night they build it by over the years.Waht kholi did to RCB the don't see any chance of winning ipl with with this team or with virat captaincy.And chnage your Rcb slogan to agli sal cup namde whatever because you guys are not gonna win\", truncated=False, display_text_range=[47, 327], entities={'hashtags': [], 'symbols': [], 'user_mentions': [{'screen_name': 'Its_SakshamR', 'name': '```~_Saksham_~```', 'id': 1244234176426983424, 'id_str': '1244234176426983424', 'indices': [0, 13]}, {'screen_name': 'weirdly_myselff', 'name': 'shakti', 'id': 882134358, 'id_str': '882134358', 'indices': [14, 30]}, {'screen_name': 'mufaddal_vohra', 'name': 'Mufaddal Vohra', 'id': 3133996860, 'id_str': '3133996860', 'indices': [31, 46]}], 'urls': []}, metadata={'iso_language_code': 'en', 'result_type': 'recent'}, source='Twitter for Android', source_url='http://twitter.com/download/android', in_reply_to_status_id=1330171707223584769, in_reply_to_status_id_str='1330171707223584769', in_reply_to_user_id=1244234176426983424, in_reply_to_user_id_str='1244234176426983424', in_reply_to_screen_name='Its_SakshamR', author=User(_api=<tweepy.api.API object at 0x00000244D6E13888>, _json={'id': 4647812568, 'id_str': '4647812568', 'name': 'SAMAR', 'screen_name': 'msamar382', 'location': 'India', 'description': '', 'url': None, 'entities': {'description': {'urls': []}}, 'protected': False, 'followers_count': 19, 'friends_count': 260, 'listed_count': 0, 'created_at': 'Fri Dec 25 07:25:02 +0000 2015', 'favourites_count': 7093, 'utc_offset': None, 'time_zone': None, 'geo_enabled': False, 'verified': False, 'statuses_count': 922, 'lang': None, 'contributors_enabled': False, 'is_translator': False, 'is_translation_enabled': False, 'profile_background_color': 'F5F8FA', 'profile_background_image_url': None, 'profile_background_image_url_https': None, 'profile_background_tile': False, 'profile_image_url': 'http://pbs.twimg.com/profile_images/1323331370244993024/9p59c-v__normal.jpg', 'profile_image_url_https': 'https://pbs.twimg.com/profile_images/1323331370244993024/9p59c-v__normal.jpg', 'profile_banner_url': 'https://pbs.twimg.com/profile_banners/4647812568/1604341957', 'profile_link_color': '1DA1F2', 'profile_sidebar_border_color': 'C0DEED', 'profile_sidebar_fill_color': 'DDEEF6', 'profile_text_color': '333333', 'profile_use_background_image': True, 'has_extended_profile': True, 'default_profile': True, 'default_profile_image': False, 'following': False, 'follow_request_sent': False, 'notifications': False, 'translator_type': 'none'}, id=4647812568, id_str='4647812568', name='SAMAR', screen_name='msamar382', location='India', description='', url=None, entities={'description': {'urls': []}}, protected=False, followers_count=19, friends_count=260, listed_count=0, created_at=datetime.datetime(2015, 12, 25, 7, 25, 2), favourites_count=7093, utc_offset=None, time_zone=None, geo_enabled=False, verified=False, statuses_count=922, lang=None, contributors_enabled=False, is_translator=False, is_translation_enabled=False, profile_background_color='F5F8FA', profile_background_image_url=None, profile_background_image_url_https=None, profile_background_tile=False, profile_image_url='http://pbs.twimg.com/profile_images/1323331370244993024/9p59c-v__normal.jpg', profile_image_url_https='https://pbs.twimg.com/profile_images/1323331370244993024/9p59c-v__normal.jpg', profile_banner_url='https://pbs.twimg.com/profile_banners/4647812568/1604341957', profile_link_color='1DA1F2', profile_sidebar_border_color='C0DEED', profile_sidebar_fill_color='DDEEF6', profile_text_color='333333', profile_use_background_image=True, has_extended_profile=True, default_profile=True, default_profile_image=False, following=False, follow_request_sent=False, notifications=False, translator_type='none'), user=User(_api=<tweepy.api.API object at 0x00000244D6E13888>, _json={'id': 4647812568, 'id_str': '4647812568', 'name': 'SAMAR', 'screen_name': 'msamar382', 'location': 'India', 'description': '', 'url': None, 'entities': {'description': {'urls': []}}, 'protected': False, 'followers_count': 19, 'friends_count': 260, 'listed_count': 0, 'created_at': 'Fri Dec 25 07:25:02 +0000 2015', 'favourites_count': 7093, 'utc_offset': None, 'time_zone': None, 'geo_enabled': False, 'verified': False, 'statuses_count': 922, 'lang': None, 'contributors_enabled': False, 'is_translator': False, 'is_translation_enabled': False, 'profile_background_color': 'F5F8FA', 'profile_background_image_url': None, 'profile_background_image_url_https': None, 'profile_background_tile': False, 'profile_image_url': 'http://pbs.twimg.com/profile_images/1323331370244993024/9p59c-v__normal.jpg', 'profile_image_url_https': 'https://pbs.twimg.com/profile_images/1323331370244993024/9p59c-v__normal.jpg', 'profile_banner_url': 'https://pbs.twimg.com/profile_banners/4647812568/1604341957', 'profile_link_color': '1DA1F2', 'profile_sidebar_border_color': 'C0DEED', 'profile_sidebar_fill_color': 'DDEEF6', 'profile_text_color': '333333', 'profile_use_background_image': True, 'has_extended_profile': True, 'default_profile': True, 'default_profile_image': False, 'following': False, 'follow_request_sent': False, 'notifications': False, 'translator_type': 'none'}, id=4647812568, id_str='4647812568', name='SAMAR', screen_name='msamar382', location='India', description='', url=None, entities={'description': {'urls': []}}, protected=False, followers_count=19, friends_count=260, listed_count=0, created_at=datetime.datetime(2015, 12, 25, 7, 25, 2), favourites_count=7093, utc_offset=None, time_zone=None, geo_enabled=False, verified=False, statuses_count=922, lang=None, contributors_enabled=False, is_translator=False, is_translation_enabled=False, profile_background_color='F5F8FA', profile_background_image_url=None, profile_background_image_url_https=None, profile_background_tile=False, profile_image_url='http://pbs.twimg.com/profile_images/1323331370244993024/9p59c-v__normal.jpg', profile_image_url_https='https://pbs.twimg.com/profile_images/1323331370244993024/9p59c-v__normal.jpg', profile_banner_url='https://pbs.twimg.com/profile_banners/4647812568/1604341957', profile_link_color='1DA1F2', profile_sidebar_border_color='C0DEED', profile_sidebar_fill_color='DDEEF6', profile_text_color='333333', profile_use_background_image=True, has_extended_profile=True, default_profile=True, default_profile_image=False, following=False, follow_request_sent=False, notifications=False, translator_type='none'), geo=None, coordinates=None, place=None, contributors=None, is_quote_status=False, retweet_count=0, favorite_count=0, favorited=False, retweeted=False, lang='en') \n",
      "\n",
      ".....................................\n",
      "\n",
      "Status(_api=<tweepy.api.API object at 0x00000244D6E13888>, _json={'created_at': 'Sat Nov 21 10:09:14 +0000 2020', 'id': 1330090889935511552, 'id_str': '1330090889935511552', 'full_text': '@CricCrazyJohns Lol in a way wt he said is true. Rohit winning the ipl with different team is another topic. But remember mi started to win titles only after he became a captain. U gotta accept the fact that mi finds better talents and backs them. Credits to mi fr bringing out such talents', 'truncated': False, 'display_text_range': [16, 290], 'entities': {'hashtags': [], 'symbols': [], 'user_mentions': [{'screen_name': 'CricCrazyJohns', 'name': 'Johns.', 'id': 743735095308099585, 'id_str': '743735095308099585', 'indices': [0, 15]}], 'urls': []}, 'metadata': {'iso_language_code': 'en', 'result_type': 'recent'}, 'source': '<a href=\"http://twitter.com/download/android\" rel=\"nofollow\">Twitter for Android</a>', 'in_reply_to_status_id': 1330048225999532032, 'in_reply_to_status_id_str': '1330048225999532032', 'in_reply_to_user_id': 743735095308099585, 'in_reply_to_user_id_str': '743735095308099585', 'in_reply_to_screen_name': 'CricCrazyJohns', 'user': {'id': 1229791420317224963, 'id_str': '1229791420317224963', 'name': 'Atish', 'screen_name': 'Atish23451133', 'location': '', 'description': '', 'url': None, 'entities': {'description': {'urls': []}}, 'protected': False, 'followers_count': 8, 'friends_count': 34, 'listed_count': 0, 'created_at': 'Tue Feb 18 15:35:33 +0000 2020', 'favourites_count': 651, 'utc_offset': None, 'time_zone': None, 'geo_enabled': False, 'verified': False, 'statuses_count': 1224, 'lang': None, 'contributors_enabled': False, 'is_translator': False, 'is_translation_enabled': False, 'profile_background_color': 'F5F8FA', 'profile_background_image_url': None, 'profile_background_image_url_https': None, 'profile_background_tile': False, 'profile_image_url': 'http://pbs.twimg.com/profile_images/1290656907317981190/0YAhNfSO_normal.jpg', 'profile_image_url_https': 'https://pbs.twimg.com/profile_images/1290656907317981190/0YAhNfSO_normal.jpg', 'profile_link_color': '1DA1F2', 'profile_sidebar_border_color': 'C0DEED', 'profile_sidebar_fill_color': 'DDEEF6', 'profile_text_color': '333333', 'profile_use_background_image': True, 'has_extended_profile': False, 'default_profile': True, 'default_profile_image': False, 'following': False, 'follow_request_sent': False, 'notifications': False, 'translator_type': 'none'}, 'geo': None, 'coordinates': None, 'place': None, 'contributors': None, 'is_quote_status': False, 'retweet_count': 0, 'favorite_count': 6, 'favorited': False, 'retweeted': False, 'lang': 'en'}, created_at=datetime.datetime(2020, 11, 21, 10, 9, 14), id=1330090889935511552, id_str='1330090889935511552', full_text='@CricCrazyJohns Lol in a way wt he said is true. Rohit winning the ipl with different team is another topic. But remember mi started to win titles only after he became a captain. U gotta accept the fact that mi finds better talents and backs them. Credits to mi fr bringing out such talents', truncated=False, display_text_range=[16, 290], entities={'hashtags': [], 'symbols': [], 'user_mentions': [{'screen_name': 'CricCrazyJohns', 'name': 'Johns.', 'id': 743735095308099585, 'id_str': '743735095308099585', 'indices': [0, 15]}], 'urls': []}, metadata={'iso_language_code': 'en', 'result_type': 'recent'}, source='Twitter for Android', source_url='http://twitter.com/download/android', in_reply_to_status_id=1330048225999532032, in_reply_to_status_id_str='1330048225999532032', in_reply_to_user_id=743735095308099585, in_reply_to_user_id_str='743735095308099585', in_reply_to_screen_name='CricCrazyJohns', author=User(_api=<tweepy.api.API object at 0x00000244D6E13888>, _json={'id': 1229791420317224963, 'id_str': '1229791420317224963', 'name': 'Atish', 'screen_name': 'Atish23451133', 'location': '', 'description': '', 'url': None, 'entities': {'description': {'urls': []}}, 'protected': False, 'followers_count': 8, 'friends_count': 34, 'listed_count': 0, 'created_at': 'Tue Feb 18 15:35:33 +0000 2020', 'favourites_count': 651, 'utc_offset': None, 'time_zone': None, 'geo_enabled': False, 'verified': False, 'statuses_count': 1224, 'lang': None, 'contributors_enabled': False, 'is_translator': False, 'is_translation_enabled': False, 'profile_background_color': 'F5F8FA', 'profile_background_image_url': None, 'profile_background_image_url_https': None, 'profile_background_tile': False, 'profile_image_url': 'http://pbs.twimg.com/profile_images/1290656907317981190/0YAhNfSO_normal.jpg', 'profile_image_url_https': 'https://pbs.twimg.com/profile_images/1290656907317981190/0YAhNfSO_normal.jpg', 'profile_link_color': '1DA1F2', 'profile_sidebar_border_color': 'C0DEED', 'profile_sidebar_fill_color': 'DDEEF6', 'profile_text_color': '333333', 'profile_use_background_image': True, 'has_extended_profile': False, 'default_profile': True, 'default_profile_image': False, 'following': False, 'follow_request_sent': False, 'notifications': False, 'translator_type': 'none'}, id=1229791420317224963, id_str='1229791420317224963', name='Atish', screen_name='Atish23451133', location='', description='', url=None, entities={'description': {'urls': []}}, protected=False, followers_count=8, friends_count=34, listed_count=0, created_at=datetime.datetime(2020, 2, 18, 15, 35, 33), favourites_count=651, utc_offset=None, time_zone=None, geo_enabled=False, verified=False, statuses_count=1224, lang=None, contributors_enabled=False, is_translator=False, is_translation_enabled=False, profile_background_color='F5F8FA', profile_background_image_url=None, profile_background_image_url_https=None, profile_background_tile=False, profile_image_url='http://pbs.twimg.com/profile_images/1290656907317981190/0YAhNfSO_normal.jpg', profile_image_url_https='https://pbs.twimg.com/profile_images/1290656907317981190/0YAhNfSO_normal.jpg', profile_link_color='1DA1F2', profile_sidebar_border_color='C0DEED', profile_sidebar_fill_color='DDEEF6', profile_text_color='333333', profile_use_background_image=True, has_extended_profile=False, default_profile=True, default_profile_image=False, following=False, follow_request_sent=False, notifications=False, translator_type='none'), user=User(_api=<tweepy.api.API object at 0x00000244D6E13888>, _json={'id': 1229791420317224963, 'id_str': '1229791420317224963', 'name': 'Atish', 'screen_name': 'Atish23451133', 'location': '', 'description': '', 'url': None, 'entities': {'description': {'urls': []}}, 'protected': False, 'followers_count': 8, 'friends_count': 34, 'listed_count': 0, 'created_at': 'Tue Feb 18 15:35:33 +0000 2020', 'favourites_count': 651, 'utc_offset': None, 'time_zone': None, 'geo_enabled': False, 'verified': False, 'statuses_count': 1224, 'lang': None, 'contributors_enabled': False, 'is_translator': False, 'is_translation_enabled': False, 'profile_background_color': 'F5F8FA', 'profile_background_image_url': None, 'profile_background_image_url_https': None, 'profile_background_tile': False, 'profile_image_url': 'http://pbs.twimg.com/profile_images/1290656907317981190/0YAhNfSO_normal.jpg', 'profile_image_url_https': 'https://pbs.twimg.com/profile_images/1290656907317981190/0YAhNfSO_normal.jpg', 'profile_link_color': '1DA1F2', 'profile_sidebar_border_color': 'C0DEED', 'profile_sidebar_fill_color': 'DDEEF6', 'profile_text_color': '333333', 'profile_use_background_image': True, 'has_extended_profile': False, 'default_profile': True, 'default_profile_image': False, 'following': False, 'follow_request_sent': False, 'notifications': False, 'translator_type': 'none'}, id=1229791420317224963, id_str='1229791420317224963', name='Atish', screen_name='Atish23451133', location='', description='', url=None, entities={'description': {'urls': []}}, protected=False, followers_count=8, friends_count=34, listed_count=0, created_at=datetime.datetime(2020, 2, 18, 15, 35, 33), favourites_count=651, utc_offset=None, time_zone=None, geo_enabled=False, verified=False, statuses_count=1224, lang=None, contributors_enabled=False, is_translator=False, is_translation_enabled=False, profile_background_color='F5F8FA', profile_background_image_url=None, profile_background_image_url_https=None, profile_background_tile=False, profile_image_url='http://pbs.twimg.com/profile_images/1290656907317981190/0YAhNfSO_normal.jpg', profile_image_url_https='https://pbs.twimg.com/profile_images/1290656907317981190/0YAhNfSO_normal.jpg', profile_link_color='1DA1F2', profile_sidebar_border_color='C0DEED', profile_sidebar_fill_color='DDEEF6', profile_text_color='333333', profile_use_background_image=True, has_extended_profile=False, default_profile=True, default_profile_image=False, following=False, follow_request_sent=False, notifications=False, translator_type='none'), geo=None, coordinates=None, place=None, contributors=None, is_quote_status=False, retweet_count=0, favorite_count=6, favorited=False, retweeted=False, lang='en') \n",
      "\n",
      ".....................................\n",
      "\n",
      "Status(_api=<tweepy.api.API object at 0x00000244D6E13888>, _json={'created_at': 'Thu Nov 19 12:53:51 +0000 2020', 'id': 1329407542225641472, 'id_str': '1329407542225641472', 'full_text': '@iamSBhardwaj @GhanviMarsad @MazherArshad Yes... especially after inclusion of boult nd de cock mi is even better than 2019 ipl  winning team', 'truncated': False, 'display_text_range': [42, 141], 'entities': {'hashtags': [], 'symbols': [], 'user_mentions': [{'screen_name': 'iamSBhardwaj', 'name': 'Sparsh Bhardwaj🇮🇳', 'id': 2474965273, 'id_str': '2474965273', 'indices': [0, 13]}, {'screen_name': 'GhanviMarsad', 'name': 'marsad ghanvi', 'id': 1176099868743479297, 'id_str': '1176099868743479297', 'indices': [14, 27]}, {'screen_name': 'MazherArshad', 'name': 'Mazher Arshad', 'id': 116211829, 'id_str': '116211829', 'indices': [28, 41]}], 'urls': []}, 'metadata': {'iso_language_code': 'en', 'result_type': 'recent'}, 'source': '<a href=\"http://twitter.com/download/android\" rel=\"nofollow\">Twitter for Android</a>', 'in_reply_to_status_id': 1329039656080478209, 'in_reply_to_status_id_str': '1329039656080478209', 'in_reply_to_user_id': 2474965273, 'in_reply_to_user_id_str': '2474965273', 'in_reply_to_screen_name': 'iamSBhardwaj', 'user': {'id': 1303601027174854658, 'id_str': '1303601027174854658', 'name': 'Cricket Lover', 'screen_name': 'Cricket71406838', 'location': '', 'description': '', 'url': None, 'entities': {'description': {'urls': []}}, 'protected': False, 'followers_count': 10, 'friends_count': 129, 'listed_count': 0, 'created_at': 'Wed Sep 09 07:48:30 +0000 2020', 'favourites_count': 2498, 'utc_offset': None, 'time_zone': None, 'geo_enabled': True, 'verified': False, 'statuses_count': 1322, 'lang': None, 'contributors_enabled': False, 'is_translator': False, 'is_translation_enabled': False, 'profile_background_color': 'F5F8FA', 'profile_background_image_url': None, 'profile_background_image_url_https': None, 'profile_background_tile': False, 'profile_image_url': 'http://pbs.twimg.com/profile_images/1303601268506542081/sdEW3ZN4_normal.jpg', 'profile_image_url_https': 'https://pbs.twimg.com/profile_images/1303601268506542081/sdEW3ZN4_normal.jpg', 'profile_link_color': '1DA1F2', 'profile_sidebar_border_color': 'C0DEED', 'profile_sidebar_fill_color': 'DDEEF6', 'profile_text_color': '333333', 'profile_use_background_image': True, 'has_extended_profile': True, 'default_profile': True, 'default_profile_image': False, 'following': False, 'follow_request_sent': False, 'notifications': False, 'translator_type': 'none'}, 'geo': None, 'coordinates': None, 'place': None, 'contributors': None, 'is_quote_status': False, 'retweet_count': 0, 'favorite_count': 0, 'favorited': False, 'retweeted': False, 'lang': 'en'}, created_at=datetime.datetime(2020, 11, 19, 12, 53, 51), id=1329407542225641472, id_str='1329407542225641472', full_text='@iamSBhardwaj @GhanviMarsad @MazherArshad Yes... especially after inclusion of boult nd de cock mi is even better than 2019 ipl  winning team', truncated=False, display_text_range=[42, 141], entities={'hashtags': [], 'symbols': [], 'user_mentions': [{'screen_name': 'iamSBhardwaj', 'name': 'Sparsh Bhardwaj🇮🇳', 'id': 2474965273, 'id_str': '2474965273', 'indices': [0, 13]}, {'screen_name': 'GhanviMarsad', 'name': 'marsad ghanvi', 'id': 1176099868743479297, 'id_str': '1176099868743479297', 'indices': [14, 27]}, {'screen_name': 'MazherArshad', 'name': 'Mazher Arshad', 'id': 116211829, 'id_str': '116211829', 'indices': [28, 41]}], 'urls': []}, metadata={'iso_language_code': 'en', 'result_type': 'recent'}, source='Twitter for Android', source_url='http://twitter.com/download/android', in_reply_to_status_id=1329039656080478209, in_reply_to_status_id_str='1329039656080478209', in_reply_to_user_id=2474965273, in_reply_to_user_id_str='2474965273', in_reply_to_screen_name='iamSBhardwaj', author=User(_api=<tweepy.api.API object at 0x00000244D6E13888>, _json={'id': 1303601027174854658, 'id_str': '1303601027174854658', 'name': 'Cricket Lover', 'screen_name': 'Cricket71406838', 'location': '', 'description': '', 'url': None, 'entities': {'description': {'urls': []}}, 'protected': False, 'followers_count': 10, 'friends_count': 129, 'listed_count': 0, 'created_at': 'Wed Sep 09 07:48:30 +0000 2020', 'favourites_count': 2498, 'utc_offset': None, 'time_zone': None, 'geo_enabled': True, 'verified': False, 'statuses_count': 1322, 'lang': None, 'contributors_enabled': False, 'is_translator': False, 'is_translation_enabled': False, 'profile_background_color': 'F5F8FA', 'profile_background_image_url': None, 'profile_background_image_url_https': None, 'profile_background_tile': False, 'profile_image_url': 'http://pbs.twimg.com/profile_images/1303601268506542081/sdEW3ZN4_normal.jpg', 'profile_image_url_https': 'https://pbs.twimg.com/profile_images/1303601268506542081/sdEW3ZN4_normal.jpg', 'profile_link_color': '1DA1F2', 'profile_sidebar_border_color': 'C0DEED', 'profile_sidebar_fill_color': 'DDEEF6', 'profile_text_color': '333333', 'profile_use_background_image': True, 'has_extended_profile': True, 'default_profile': True, 'default_profile_image': False, 'following': False, 'follow_request_sent': False, 'notifications': False, 'translator_type': 'none'}, id=1303601027174854658, id_str='1303601027174854658', name='Cricket Lover', screen_name='Cricket71406838', location='', description='', url=None, entities={'description': {'urls': []}}, protected=False, followers_count=10, friends_count=129, listed_count=0, created_at=datetime.datetime(2020, 9, 9, 7, 48, 30), favourites_count=2498, utc_offset=None, time_zone=None, geo_enabled=True, verified=False, statuses_count=1322, lang=None, contributors_enabled=False, is_translator=False, is_translation_enabled=False, profile_background_color='F5F8FA', profile_background_image_url=None, profile_background_image_url_https=None, profile_background_tile=False, profile_image_url='http://pbs.twimg.com/profile_images/1303601268506542081/sdEW3ZN4_normal.jpg', profile_image_url_https='https://pbs.twimg.com/profile_images/1303601268506542081/sdEW3ZN4_normal.jpg', profile_link_color='1DA1F2', profile_sidebar_border_color='C0DEED', profile_sidebar_fill_color='DDEEF6', profile_text_color='333333', profile_use_background_image=True, has_extended_profile=True, default_profile=True, default_profile_image=False, following=False, follow_request_sent=False, notifications=False, translator_type='none'), user=User(_api=<tweepy.api.API object at 0x00000244D6E13888>, _json={'id': 1303601027174854658, 'id_str': '1303601027174854658', 'name': 'Cricket Lover', 'screen_name': 'Cricket71406838', 'location': '', 'description': '', 'url': None, 'entities': {'description': {'urls': []}}, 'protected': False, 'followers_count': 10, 'friends_count': 129, 'listed_count': 0, 'created_at': 'Wed Sep 09 07:48:30 +0000 2020', 'favourites_count': 2498, 'utc_offset': None, 'time_zone': None, 'geo_enabled': True, 'verified': False, 'statuses_count': 1322, 'lang': None, 'contributors_enabled': False, 'is_translator': False, 'is_translation_enabled': False, 'profile_background_color': 'F5F8FA', 'profile_background_image_url': None, 'profile_background_image_url_https': None, 'profile_background_tile': False, 'profile_image_url': 'http://pbs.twimg.com/profile_images/1303601268506542081/sdEW3ZN4_normal.jpg', 'profile_image_url_https': 'https://pbs.twimg.com/profile_images/1303601268506542081/sdEW3ZN4_normal.jpg', 'profile_link_color': '1DA1F2', 'profile_sidebar_border_color': 'C0DEED', 'profile_sidebar_fill_color': 'DDEEF6', 'profile_text_color': '333333', 'profile_use_background_image': True, 'has_extended_profile': True, 'default_profile': True, 'default_profile_image': False, 'following': False, 'follow_request_sent': False, 'notifications': False, 'translator_type': 'none'}, id=1303601027174854658, id_str='1303601027174854658', name='Cricket Lover', screen_name='Cricket71406838', location='', description='', url=None, entities={'description': {'urls': []}}, protected=False, followers_count=10, friends_count=129, listed_count=0, created_at=datetime.datetime(2020, 9, 9, 7, 48, 30), favourites_count=2498, utc_offset=None, time_zone=None, geo_enabled=True, verified=False, statuses_count=1322, lang=None, contributors_enabled=False, is_translator=False, is_translation_enabled=False, profile_background_color='F5F8FA', profile_background_image_url=None, profile_background_image_url_https=None, profile_background_tile=False, profile_image_url='http://pbs.twimg.com/profile_images/1303601268506542081/sdEW3ZN4_normal.jpg', profile_image_url_https='https://pbs.twimg.com/profile_images/1303601268506542081/sdEW3ZN4_normal.jpg', profile_link_color='1DA1F2', profile_sidebar_border_color='C0DEED', profile_sidebar_fill_color='DDEEF6', profile_text_color='333333', profile_use_background_image=True, has_extended_profile=True, default_profile=True, default_profile_image=False, following=False, follow_request_sent=False, notifications=False, translator_type='none'), geo=None, coordinates=None, place=None, contributors=None, is_quote_status=False, retweet_count=0, favorite_count=0, favorited=False, retweeted=False, lang='en') \n",
      "\n",
      ".....................................\n",
      "\n",
      "Status(_api=<tweepy.api.API object at 0x00000244D6E13888>, _json={'created_at': 'Thu Nov 19 10:50:02 +0000 2020', 'id': 1329376379448672256, 'id_str': '1329376379448672256', 'full_text': '@viratian_jay @ImBenTenn45 It didnt matter as mi won ipl unlike some abusers 13 years winning lungs and kidneys 😂😂😂😂', 'truncated': False, 'display_text_range': [27, 116], 'entities': {'hashtags': [], 'symbols': [], 'user_mentions': [{'screen_name': 'viratian_jay', 'name': 'Jaysingh Rathore', 'id': 735737205214220288, 'id_str': '735737205214220288', 'indices': [0, 13]}, {'screen_name': 'ImBenTenn45', 'name': 'RO45', 'id': 1221667227457339393, 'id_str': '1221667227457339393', 'indices': [14, 26]}], 'urls': []}, 'metadata': {'iso_language_code': 'en', 'result_type': 'recent'}, 'source': '<a href=\"http://twitter.com/download/android\" rel=\"nofollow\">Twitter for Android</a>', 'in_reply_to_status_id': 1329376108198805505, 'in_reply_to_status_id_str': '1329376108198805505', 'in_reply_to_user_id': 735737205214220288, 'in_reply_to_user_id_str': '735737205214220288', 'in_reply_to_screen_name': 'viratian_jay', 'user': {'id': 1159008164559249410, 'id_str': '1159008164559249410', 'name': 'Mb2', 'screen_name': 'mbpokiri14', 'location': 'cold area', 'description': 'ENG AUS NZ  SRH MI \\n\\nReports Kodite ni  idol chavu goram ga untadi', 'url': None, 'entities': {'description': {'urls': []}}, 'protected': False, 'followers_count': 157, 'friends_count': 250, 'listed_count': 0, 'created_at': 'Wed Aug 07 07:47:34 +0000 2019', 'favourites_count': 31432, 'utc_offset': None, 'time_zone': None, 'geo_enabled': False, 'verified': False, 'statuses_count': 25039, 'lang': None, 'contributors_enabled': False, 'is_translator': False, 'is_translation_enabled': False, 'profile_background_color': 'F5F8FA', 'profile_background_image_url': None, 'profile_background_image_url_https': None, 'profile_background_tile': False, 'profile_image_url': 'http://pbs.twimg.com/profile_images/1325804722314383361/yBIIWUIM_normal.jpg', 'profile_image_url_https': 'https://pbs.twimg.com/profile_images/1325804722314383361/yBIIWUIM_normal.jpg', 'profile_banner_url': 'https://pbs.twimg.com/profile_banners/1159008164559249410/1604908663', 'profile_link_color': '1DA1F2', 'profile_sidebar_border_color': 'C0DEED', 'profile_sidebar_fill_color': 'DDEEF6', 'profile_text_color': '333333', 'profile_use_background_image': True, 'has_extended_profile': False, 'default_profile': True, 'default_profile_image': False, 'following': False, 'follow_request_sent': False, 'notifications': False, 'translator_type': 'none'}, 'geo': None, 'coordinates': None, 'place': None, 'contributors': None, 'is_quote_status': False, 'retweet_count': 0, 'favorite_count': 1, 'favorited': False, 'retweeted': False, 'lang': 'en'}, created_at=datetime.datetime(2020, 11, 19, 10, 50, 2), id=1329376379448672256, id_str='1329376379448672256', full_text='@viratian_jay @ImBenTenn45 It didnt matter as mi won ipl unlike some abusers 13 years winning lungs and kidneys 😂😂😂😂', truncated=False, display_text_range=[27, 116], entities={'hashtags': [], 'symbols': [], 'user_mentions': [{'screen_name': 'viratian_jay', 'name': 'Jaysingh Rathore', 'id': 735737205214220288, 'id_str': '735737205214220288', 'indices': [0, 13]}, {'screen_name': 'ImBenTenn45', 'name': 'RO45', 'id': 1221667227457339393, 'id_str': '1221667227457339393', 'indices': [14, 26]}], 'urls': []}, metadata={'iso_language_code': 'en', 'result_type': 'recent'}, source='Twitter for Android', source_url='http://twitter.com/download/android', in_reply_to_status_id=1329376108198805505, in_reply_to_status_id_str='1329376108198805505', in_reply_to_user_id=735737205214220288, in_reply_to_user_id_str='735737205214220288', in_reply_to_screen_name='viratian_jay', author=User(_api=<tweepy.api.API object at 0x00000244D6E13888>, _json={'id': 1159008164559249410, 'id_str': '1159008164559249410', 'name': 'Mb2', 'screen_name': 'mbpokiri14', 'location': 'cold area', 'description': 'ENG AUS NZ  SRH MI \\n\\nReports Kodite ni  idol chavu goram ga untadi', 'url': None, 'entities': {'description': {'urls': []}}, 'protected': False, 'followers_count': 157, 'friends_count': 250, 'listed_count': 0, 'created_at': 'Wed Aug 07 07:47:34 +0000 2019', 'favourites_count': 31432, 'utc_offset': None, 'time_zone': None, 'geo_enabled': False, 'verified': False, 'statuses_count': 25039, 'lang': None, 'contributors_enabled': False, 'is_translator': False, 'is_translation_enabled': False, 'profile_background_color': 'F5F8FA', 'profile_background_image_url': None, 'profile_background_image_url_https': None, 'profile_background_tile': False, 'profile_image_url': 'http://pbs.twimg.com/profile_images/1325804722314383361/yBIIWUIM_normal.jpg', 'profile_image_url_https': 'https://pbs.twimg.com/profile_images/1325804722314383361/yBIIWUIM_normal.jpg', 'profile_banner_url': 'https://pbs.twimg.com/profile_banners/1159008164559249410/1604908663', 'profile_link_color': '1DA1F2', 'profile_sidebar_border_color': 'C0DEED', 'profile_sidebar_fill_color': 'DDEEF6', 'profile_text_color': '333333', 'profile_use_background_image': True, 'has_extended_profile': False, 'default_profile': True, 'default_profile_image': False, 'following': False, 'follow_request_sent': False, 'notifications': False, 'translator_type': 'none'}, id=1159008164559249410, id_str='1159008164559249410', name='Mb2', screen_name='mbpokiri14', location='cold area', description='ENG AUS NZ  SRH MI \\n\\nReports Kodite ni  idol chavu goram ga untadi', url=None, entities={'description': {'urls': []}}, protected=False, followers_count=157, friends_count=250, listed_count=0, created_at=datetime.datetime(2019, 8, 7, 7, 47, 34), favourites_count=31432, utc_offset=None, time_zone=None, geo_enabled=False, verified=False, statuses_count=25039, lang=None, contributors_enabled=False, is_translator=False, is_translation_enabled=False, profile_background_color='F5F8FA', profile_background_image_url=None, profile_background_image_url_https=None, profile_background_tile=False, profile_image_url='http://pbs.twimg.com/profile_images/1325804722314383361/yBIIWUIM_normal.jpg', profile_image_url_https='https://pbs.twimg.com/profile_images/1325804722314383361/yBIIWUIM_normal.jpg', profile_banner_url='https://pbs.twimg.com/profile_banners/1159008164559249410/1604908663', profile_link_color='1DA1F2', profile_sidebar_border_color='C0DEED', profile_sidebar_fill_color='DDEEF6', profile_text_color='333333', profile_use_background_image=True, has_extended_profile=False, default_profile=True, default_profile_image=False, following=False, follow_request_sent=False, notifications=False, translator_type='none'), user=User(_api=<tweepy.api.API object at 0x00000244D6E13888>, _json={'id': 1159008164559249410, 'id_str': '1159008164559249410', 'name': 'Mb2', 'screen_name': 'mbpokiri14', 'location': 'cold area', 'description': 'ENG AUS NZ  SRH MI \\n\\nReports Kodite ni  idol chavu goram ga untadi', 'url': None, 'entities': {'description': {'urls': []}}, 'protected': False, 'followers_count': 157, 'friends_count': 250, 'listed_count': 0, 'created_at': 'Wed Aug 07 07:47:34 +0000 2019', 'favourites_count': 31432, 'utc_offset': None, 'time_zone': None, 'geo_enabled': False, 'verified': False, 'statuses_count': 25039, 'lang': None, 'contributors_enabled': False, 'is_translator': False, 'is_translation_enabled': False, 'profile_background_color': 'F5F8FA', 'profile_background_image_url': None, 'profile_background_image_url_https': None, 'profile_background_tile': False, 'profile_image_url': 'http://pbs.twimg.com/profile_images/1325804722314383361/yBIIWUIM_normal.jpg', 'profile_image_url_https': 'https://pbs.twimg.com/profile_images/1325804722314383361/yBIIWUIM_normal.jpg', 'profile_banner_url': 'https://pbs.twimg.com/profile_banners/1159008164559249410/1604908663', 'profile_link_color': '1DA1F2', 'profile_sidebar_border_color': 'C0DEED', 'profile_sidebar_fill_color': 'DDEEF6', 'profile_text_color': '333333', 'profile_use_background_image': True, 'has_extended_profile': False, 'default_profile': True, 'default_profile_image': False, 'following': False, 'follow_request_sent': False, 'notifications': False, 'translator_type': 'none'}, id=1159008164559249410, id_str='1159008164559249410', name='Mb2', screen_name='mbpokiri14', location='cold area', description='ENG AUS NZ  SRH MI \\n\\nReports Kodite ni  idol chavu goram ga untadi', url=None, entities={'description': {'urls': []}}, protected=False, followers_count=157, friends_count=250, listed_count=0, created_at=datetime.datetime(2019, 8, 7, 7, 47, 34), favourites_count=31432, utc_offset=None, time_zone=None, geo_enabled=False, verified=False, statuses_count=25039, lang=None, contributors_enabled=False, is_translator=False, is_translation_enabled=False, profile_background_color='F5F8FA', profile_background_image_url=None, profile_background_image_url_https=None, profile_background_tile=False, profile_image_url='http://pbs.twimg.com/profile_images/1325804722314383361/yBIIWUIM_normal.jpg', profile_image_url_https='https://pbs.twimg.com/profile_images/1325804722314383361/yBIIWUIM_normal.jpg', profile_banner_url='https://pbs.twimg.com/profile_banners/1159008164559249410/1604908663', profile_link_color='1DA1F2', profile_sidebar_border_color='C0DEED', profile_sidebar_fill_color='DDEEF6', profile_text_color='333333', profile_use_background_image=True, has_extended_profile=False, default_profile=True, default_profile_image=False, following=False, follow_request_sent=False, notifications=False, translator_type='none'), geo=None, coordinates=None, place=None, contributors=None, is_quote_status=False, retweet_count=0, favorite_count=1, favorited=False, retweeted=False, lang='en') \n",
      "\n",
      ".....................................\n",
      "\n",
      "Status(_api=<tweepy.api.API object at 0x00000244D6E13888>, _json={'created_at': 'Thu Nov 19 10:24:37 +0000 2020', 'id': 1329369985584484353, 'id_str': '1329369985584484353', 'full_text': \"@45Likith @Thyview Even after winning 5 times ipl trophy mi don't have fans 😭😭\", 'truncated': False, 'display_text_range': [19, 78], 'entities': {'hashtags': [], 'symbols': [], 'user_mentions': [{'screen_name': '45Likith', 'name': 'likith45', 'id': 1033931442500206593, 'id_str': '1033931442500206593', 'indices': [0, 9]}, {'screen_name': 'Thyview', 'name': 'Thyview', 'id': 1596642901, 'id_str': '1596642901', 'indices': [10, 18]}], 'urls': []}, 'metadata': {'iso_language_code': 'en', 'result_type': 'recent'}, 'source': '<a href=\"http://twitter.com/download/android\" rel=\"nofollow\">Twitter for Android</a>', 'in_reply_to_status_id': 1329331248121081861, 'in_reply_to_status_id_str': '1329331248121081861', 'in_reply_to_user_id': 1033931442500206593, 'in_reply_to_user_id_str': '1033931442500206593', 'in_reply_to_screen_name': '45Likith', 'user': {'id': 1279387839256342531, 'id_str': '1279387839256342531', 'name': 'Gabbar power', 'screen_name': 'gabbar_power', 'location': 'Hyderabad, India', 'description': '@pawankalyan forever✊\\nbackup account @gabbar_power2', 'url': None, 'entities': {'description': {'urls': []}}, 'protected': False, 'followers_count': 517, 'friends_count': 576, 'listed_count': 0, 'created_at': 'Sat Jul 04 12:13:47 +0000 2020', 'favourites_count': 23084, 'utc_offset': None, 'time_zone': None, 'geo_enabled': False, 'verified': False, 'statuses_count': 24102, 'lang': None, 'contributors_enabled': False, 'is_translator': False, 'is_translation_enabled': False, 'profile_background_color': 'F5F8FA', 'profile_background_image_url': None, 'profile_background_image_url_https': None, 'profile_background_tile': False, 'profile_image_url': 'http://pbs.twimg.com/profile_images/1323989091487133696/eNu9qMQg_normal.jpg', 'profile_image_url_https': 'https://pbs.twimg.com/profile_images/1323989091487133696/eNu9qMQg_normal.jpg', 'profile_banner_url': 'https://pbs.twimg.com/profile_banners/1279387839256342531/1599666646', 'profile_link_color': '1DA1F2', 'profile_sidebar_border_color': 'C0DEED', 'profile_sidebar_fill_color': 'DDEEF6', 'profile_text_color': '333333', 'profile_use_background_image': True, 'has_extended_profile': True, 'default_profile': True, 'default_profile_image': False, 'following': False, 'follow_request_sent': False, 'notifications': False, 'translator_type': 'none'}, 'geo': None, 'coordinates': None, 'place': None, 'contributors': None, 'is_quote_status': False, 'retweet_count': 0, 'favorite_count': 10, 'favorited': False, 'retweeted': False, 'lang': 'en'}, created_at=datetime.datetime(2020, 11, 19, 10, 24, 37), id=1329369985584484353, id_str='1329369985584484353', full_text=\"@45Likith @Thyview Even after winning 5 times ipl trophy mi don't have fans 😭😭\", truncated=False, display_text_range=[19, 78], entities={'hashtags': [], 'symbols': [], 'user_mentions': [{'screen_name': '45Likith', 'name': 'likith45', 'id': 1033931442500206593, 'id_str': '1033931442500206593', 'indices': [0, 9]}, {'screen_name': 'Thyview', 'name': 'Thyview', 'id': 1596642901, 'id_str': '1596642901', 'indices': [10, 18]}], 'urls': []}, metadata={'iso_language_code': 'en', 'result_type': 'recent'}, source='Twitter for Android', source_url='http://twitter.com/download/android', in_reply_to_status_id=1329331248121081861, in_reply_to_status_id_str='1329331248121081861', in_reply_to_user_id=1033931442500206593, in_reply_to_user_id_str='1033931442500206593', in_reply_to_screen_name='45Likith', author=User(_api=<tweepy.api.API object at 0x00000244D6E13888>, _json={'id': 1279387839256342531, 'id_str': '1279387839256342531', 'name': 'Gabbar power', 'screen_name': 'gabbar_power', 'location': 'Hyderabad, India', 'description': '@pawankalyan forever✊\\nbackup account @gabbar_power2', 'url': None, 'entities': {'description': {'urls': []}}, 'protected': False, 'followers_count': 517, 'friends_count': 576, 'listed_count': 0, 'created_at': 'Sat Jul 04 12:13:47 +0000 2020', 'favourites_count': 23084, 'utc_offset': None, 'time_zone': None, 'geo_enabled': False, 'verified': False, 'statuses_count': 24102, 'lang': None, 'contributors_enabled': False, 'is_translator': False, 'is_translation_enabled': False, 'profile_background_color': 'F5F8FA', 'profile_background_image_url': None, 'profile_background_image_url_https': None, 'profile_background_tile': False, 'profile_image_url': 'http://pbs.twimg.com/profile_images/1323989091487133696/eNu9qMQg_normal.jpg', 'profile_image_url_https': 'https://pbs.twimg.com/profile_images/1323989091487133696/eNu9qMQg_normal.jpg', 'profile_banner_url': 'https://pbs.twimg.com/profile_banners/1279387839256342531/1599666646', 'profile_link_color': '1DA1F2', 'profile_sidebar_border_color': 'C0DEED', 'profile_sidebar_fill_color': 'DDEEF6', 'profile_text_color': '333333', 'profile_use_background_image': True, 'has_extended_profile': True, 'default_profile': True, 'default_profile_image': False, 'following': False, 'follow_request_sent': False, 'notifications': False, 'translator_type': 'none'}, id=1279387839256342531, id_str='1279387839256342531', name='Gabbar power', screen_name='gabbar_power', location='Hyderabad, India', description='@pawankalyan forever✊\\nbackup account @gabbar_power2', url=None, entities={'description': {'urls': []}}, protected=False, followers_count=517, friends_count=576, listed_count=0, created_at=datetime.datetime(2020, 7, 4, 12, 13, 47), favourites_count=23084, utc_offset=None, time_zone=None, geo_enabled=False, verified=False, statuses_count=24102, lang=None, contributors_enabled=False, is_translator=False, is_translation_enabled=False, profile_background_color='F5F8FA', profile_background_image_url=None, profile_background_image_url_https=None, profile_background_tile=False, profile_image_url='http://pbs.twimg.com/profile_images/1323989091487133696/eNu9qMQg_normal.jpg', profile_image_url_https='https://pbs.twimg.com/profile_images/1323989091487133696/eNu9qMQg_normal.jpg', profile_banner_url='https://pbs.twimg.com/profile_banners/1279387839256342531/1599666646', profile_link_color='1DA1F2', profile_sidebar_border_color='C0DEED', profile_sidebar_fill_color='DDEEF6', profile_text_color='333333', profile_use_background_image=True, has_extended_profile=True, default_profile=True, default_profile_image=False, following=False, follow_request_sent=False, notifications=False, translator_type='none'), user=User(_api=<tweepy.api.API object at 0x00000244D6E13888>, _json={'id': 1279387839256342531, 'id_str': '1279387839256342531', 'name': 'Gabbar power', 'screen_name': 'gabbar_power', 'location': 'Hyderabad, India', 'description': '@pawankalyan forever✊\\nbackup account @gabbar_power2', 'url': None, 'entities': {'description': {'urls': []}}, 'protected': False, 'followers_count': 517, 'friends_count': 576, 'listed_count': 0, 'created_at': 'Sat Jul 04 12:13:47 +0000 2020', 'favourites_count': 23084, 'utc_offset': None, 'time_zone': None, 'geo_enabled': False, 'verified': False, 'statuses_count': 24102, 'lang': None, 'contributors_enabled': False, 'is_translator': False, 'is_translation_enabled': False, 'profile_background_color': 'F5F8FA', 'profile_background_image_url': None, 'profile_background_image_url_https': None, 'profile_background_tile': False, 'profile_image_url': 'http://pbs.twimg.com/profile_images/1323989091487133696/eNu9qMQg_normal.jpg', 'profile_image_url_https': 'https://pbs.twimg.com/profile_images/1323989091487133696/eNu9qMQg_normal.jpg', 'profile_banner_url': 'https://pbs.twimg.com/profile_banners/1279387839256342531/1599666646', 'profile_link_color': '1DA1F2', 'profile_sidebar_border_color': 'C0DEED', 'profile_sidebar_fill_color': 'DDEEF6', 'profile_text_color': '333333', 'profile_use_background_image': True, 'has_extended_profile': True, 'default_profile': True, 'default_profile_image': False, 'following': False, 'follow_request_sent': False, 'notifications': False, 'translator_type': 'none'}, id=1279387839256342531, id_str='1279387839256342531', name='Gabbar power', screen_name='gabbar_power', location='Hyderabad, India', description='@pawankalyan forever✊\\nbackup account @gabbar_power2', url=None, entities={'description': {'urls': []}}, protected=False, followers_count=517, friends_count=576, listed_count=0, created_at=datetime.datetime(2020, 7, 4, 12, 13, 47), favourites_count=23084, utc_offset=None, time_zone=None, geo_enabled=False, verified=False, statuses_count=24102, lang=None, contributors_enabled=False, is_translator=False, is_translation_enabled=False, profile_background_color='F5F8FA', profile_background_image_url=None, profile_background_image_url_https=None, profile_background_tile=False, profile_image_url='http://pbs.twimg.com/profile_images/1323989091487133696/eNu9qMQg_normal.jpg', profile_image_url_https='https://pbs.twimg.com/profile_images/1323989091487133696/eNu9qMQg_normal.jpg', profile_banner_url='https://pbs.twimg.com/profile_banners/1279387839256342531/1599666646', profile_link_color='1DA1F2', profile_sidebar_border_color='C0DEED', profile_sidebar_fill_color='DDEEF6', profile_text_color='333333', profile_use_background_image=True, has_extended_profile=True, default_profile=True, default_profile_image=False, following=False, follow_request_sent=False, notifications=False, translator_type='none'), geo=None, coordinates=None, place=None, contributors=None, is_quote_status=False, retweet_count=0, favorite_count=10, favorited=False, retweeted=False, lang='en') \n",
      "\n",
      ".....................................\n",
      "\n",
      "Status(_api=<tweepy.api.API object at 0x00000244D6E13888>, _json={'created_at': 'Thu Nov 19 06:10:58 +0000 2020', 'id': 1329306151326912517, 'id_str': '1329306151326912517', 'full_text': '@MazherArshad MI knows the strategy of other IPL teams very well.karachi kings will be an exception. But even without Rohit they were winning easily. On papers they are way ahead than any team in the world.', 'truncated': False, 'display_text_range': [14, 206], 'entities': {'hashtags': [], 'symbols': [], 'user_mentions': [{'screen_name': 'MazherArshad', 'name': 'Mazher Arshad', 'id': 116211829, 'id_str': '116211829', 'indices': [0, 13]}], 'urls': []}, 'metadata': {'iso_language_code': 'en', 'result_type': 'recent'}, 'source': '<a href=\"http://twitter.com/download/android\" rel=\"nofollow\">Twitter for Android</a>', 'in_reply_to_status_id': 1329027948578549760, 'in_reply_to_status_id_str': '1329027948578549760', 'in_reply_to_user_id': 116211829, 'in_reply_to_user_id_str': '116211829', 'in_reply_to_screen_name': 'MazherArshad', 'user': {'id': 979190023831527424, 'id_str': '979190023831527424', 'name': 'SwAyAm', 'screen_name': 'SwAyAm27782681', 'location': 'Chandigarh, India', 'description': '', 'url': None, 'entities': {'description': {'urls': []}}, 'protected': False, 'followers_count': 10, 'friends_count': 174, 'listed_count': 0, 'created_at': 'Thu Mar 29 02:54:28 +0000 2018', 'favourites_count': 7822, 'utc_offset': None, 'time_zone': None, 'geo_enabled': False, 'verified': False, 'statuses_count': 2027, 'lang': None, 'contributors_enabled': False, 'is_translator': False, 'is_translation_enabled': False, 'profile_background_color': 'F5F8FA', 'profile_background_image_url': None, 'profile_background_image_url_https': None, 'profile_background_tile': False, 'profile_image_url': 'http://pbs.twimg.com/profile_images/979201998833696768/ZX7cVjmY_normal.png', 'profile_image_url_https': 'https://pbs.twimg.com/profile_images/979201998833696768/ZX7cVjmY_normal.png', 'profile_link_color': '1DA1F2', 'profile_sidebar_border_color': 'C0DEED', 'profile_sidebar_fill_color': 'DDEEF6', 'profile_text_color': '333333', 'profile_use_background_image': True, 'has_extended_profile': True, 'default_profile': True, 'default_profile_image': False, 'following': False, 'follow_request_sent': False, 'notifications': False, 'translator_type': 'none'}, 'geo': None, 'coordinates': None, 'place': None, 'contributors': None, 'is_quote_status': False, 'retweet_count': 0, 'favorite_count': 0, 'favorited': False, 'retweeted': False, 'lang': 'en'}, created_at=datetime.datetime(2020, 11, 19, 6, 10, 58), id=1329306151326912517, id_str='1329306151326912517', full_text='@MazherArshad MI knows the strategy of other IPL teams very well.karachi kings will be an exception. But even without Rohit they were winning easily. On papers they are way ahead than any team in the world.', truncated=False, display_text_range=[14, 206], entities={'hashtags': [], 'symbols': [], 'user_mentions': [{'screen_name': 'MazherArshad', 'name': 'Mazher Arshad', 'id': 116211829, 'id_str': '116211829', 'indices': [0, 13]}], 'urls': []}, metadata={'iso_language_code': 'en', 'result_type': 'recent'}, source='Twitter for Android', source_url='http://twitter.com/download/android', in_reply_to_status_id=1329027948578549760, in_reply_to_status_id_str='1329027948578549760', in_reply_to_user_id=116211829, in_reply_to_user_id_str='116211829', in_reply_to_screen_name='MazherArshad', author=User(_api=<tweepy.api.API object at 0x00000244D6E13888>, _json={'id': 979190023831527424, 'id_str': '979190023831527424', 'name': 'SwAyAm', 'screen_name': 'SwAyAm27782681', 'location': 'Chandigarh, India', 'description': '', 'url': None, 'entities': {'description': {'urls': []}}, 'protected': False, 'followers_count': 10, 'friends_count': 174, 'listed_count': 0, 'created_at': 'Thu Mar 29 02:54:28 +0000 2018', 'favourites_count': 7822, 'utc_offset': None, 'time_zone': None, 'geo_enabled': False, 'verified': False, 'statuses_count': 2027, 'lang': None, 'contributors_enabled': False, 'is_translator': False, 'is_translation_enabled': False, 'profile_background_color': 'F5F8FA', 'profile_background_image_url': None, 'profile_background_image_url_https': None, 'profile_background_tile': False, 'profile_image_url': 'http://pbs.twimg.com/profile_images/979201998833696768/ZX7cVjmY_normal.png', 'profile_image_url_https': 'https://pbs.twimg.com/profile_images/979201998833696768/ZX7cVjmY_normal.png', 'profile_link_color': '1DA1F2', 'profile_sidebar_border_color': 'C0DEED', 'profile_sidebar_fill_color': 'DDEEF6', 'profile_text_color': '333333', 'profile_use_background_image': True, 'has_extended_profile': True, 'default_profile': True, 'default_profile_image': False, 'following': False, 'follow_request_sent': False, 'notifications': False, 'translator_type': 'none'}, id=979190023831527424, id_str='979190023831527424', name='SwAyAm', screen_name='SwAyAm27782681', location='Chandigarh, India', description='', url=None, entities={'description': {'urls': []}}, protected=False, followers_count=10, friends_count=174, listed_count=0, created_at=datetime.datetime(2018, 3, 29, 2, 54, 28), favourites_count=7822, utc_offset=None, time_zone=None, geo_enabled=False, verified=False, statuses_count=2027, lang=None, contributors_enabled=False, is_translator=False, is_translation_enabled=False, profile_background_color='F5F8FA', profile_background_image_url=None, profile_background_image_url_https=None, profile_background_tile=False, profile_image_url='http://pbs.twimg.com/profile_images/979201998833696768/ZX7cVjmY_normal.png', profile_image_url_https='https://pbs.twimg.com/profile_images/979201998833696768/ZX7cVjmY_normal.png', profile_link_color='1DA1F2', profile_sidebar_border_color='C0DEED', profile_sidebar_fill_color='DDEEF6', profile_text_color='333333', profile_use_background_image=True, has_extended_profile=True, default_profile=True, default_profile_image=False, following=False, follow_request_sent=False, notifications=False, translator_type='none'), user=User(_api=<tweepy.api.API object at 0x00000244D6E13888>, _json={'id': 979190023831527424, 'id_str': '979190023831527424', 'name': 'SwAyAm', 'screen_name': 'SwAyAm27782681', 'location': 'Chandigarh, India', 'description': '', 'url': None, 'entities': {'description': {'urls': []}}, 'protected': False, 'followers_count': 10, 'friends_count': 174, 'listed_count': 0, 'created_at': 'Thu Mar 29 02:54:28 +0000 2018', 'favourites_count': 7822, 'utc_offset': None, 'time_zone': None, 'geo_enabled': False, 'verified': False, 'statuses_count': 2027, 'lang': None, 'contributors_enabled': False, 'is_translator': False, 'is_translation_enabled': False, 'profile_background_color': 'F5F8FA', 'profile_background_image_url': None, 'profile_background_image_url_https': None, 'profile_background_tile': False, 'profile_image_url': 'http://pbs.twimg.com/profile_images/979201998833696768/ZX7cVjmY_normal.png', 'profile_image_url_https': 'https://pbs.twimg.com/profile_images/979201998833696768/ZX7cVjmY_normal.png', 'profile_link_color': '1DA1F2', 'profile_sidebar_border_color': 'C0DEED', 'profile_sidebar_fill_color': 'DDEEF6', 'profile_text_color': '333333', 'profile_use_background_image': True, 'has_extended_profile': True, 'default_profile': True, 'default_profile_image': False, 'following': False, 'follow_request_sent': False, 'notifications': False, 'translator_type': 'none'}, id=979190023831527424, id_str='979190023831527424', name='SwAyAm', screen_name='SwAyAm27782681', location='Chandigarh, India', description='', url=None, entities={'description': {'urls': []}}, protected=False, followers_count=10, friends_count=174, listed_count=0, created_at=datetime.datetime(2018, 3, 29, 2, 54, 28), favourites_count=7822, utc_offset=None, time_zone=None, geo_enabled=False, verified=False, statuses_count=2027, lang=None, contributors_enabled=False, is_translator=False, is_translation_enabled=False, profile_background_color='F5F8FA', profile_background_image_url=None, profile_background_image_url_https=None, profile_background_tile=False, profile_image_url='http://pbs.twimg.com/profile_images/979201998833696768/ZX7cVjmY_normal.png', profile_image_url_https='https://pbs.twimg.com/profile_images/979201998833696768/ZX7cVjmY_normal.png', profile_link_color='1DA1F2', profile_sidebar_border_color='C0DEED', profile_sidebar_fill_color='DDEEF6', profile_text_color='333333', profile_use_background_image=True, has_extended_profile=True, default_profile=True, default_profile_image=False, following=False, follow_request_sent=False, notifications=False, translator_type='none'), geo=None, coordinates=None, place=None, contributors=None, is_quote_status=False, retweet_count=0, favorite_count=0, favorited=False, retweeted=False, lang='en') \n",
      "\n",
      ".....................................\n",
      "\n",
      "Status(_api=<tweepy.api.API object at 0x00000244D6E13888>, _json={'created_at': 'Wed Nov 18 18:17:21 +0000 2020', 'id': 1329126561954422785, 'id_str': '1329126561954422785', 'full_text': 'Karachi Kings’ Sherfane Rutherford put on MI gloves in PSL, franchise gets trolled! But the player set an unlikely record of figuring in winning teams of the IPL and PSL! #MumbaiIndians https://t.co/hcgrgoUNHn', 'truncated': False, 'display_text_range': [0, 209], 'entities': {'hashtags': [{'text': 'MumbaiIndians', 'indices': [171, 185]}], 'symbols': [], 'user_mentions': [], 'urls': [{'url': 'https://t.co/hcgrgoUNHn', 'expanded_url': 'https://indianexpress.com/article/sports/cricket/karachi-kings-sherfane-rutherford-puts-on-mi-gloves-in-psl-franchise-gets-trolled-7054205/', 'display_url': 'indianexpress.com/article/sports…', 'indices': [186, 209]}]}, 'metadata': {'iso_language_code': 'en', 'result_type': 'recent'}, 'source': '<a href=\"http://twitter.com/download/android\" rel=\"nofollow\">Twitter for Android</a>', 'in_reply_to_status_id': None, 'in_reply_to_status_id_str': None, 'in_reply_to_user_id': None, 'in_reply_to_user_id_str': None, 'in_reply_to_screen_name': None, 'user': {'id': 318262790, 'id_str': '318262790', 'name': 'Yeshwanth Kini', 'screen_name': 'YeshwanthKini', 'location': 'Mumbai, India', 'description': 'IIT-BHU & IIM-A alum. Private equity investor; CEO-India Kaup Capital. Apart from this, have opinions on all things Indian, sports to politics.', 'url': None, 'entities': {'description': {'urls': []}}, 'protected': False, 'followers_count': 262, 'friends_count': 350, 'listed_count': 23, 'created_at': 'Thu Jun 16 06:16:44 +0000 2011', 'favourites_count': 4279, 'utc_offset': None, 'time_zone': None, 'geo_enabled': False, 'verified': False, 'statuses_count': 11763, 'lang': None, 'contributors_enabled': False, 'is_translator': False, 'is_translation_enabled': False, 'profile_background_color': 'C0DEED', 'profile_background_image_url': 'http://abs.twimg.com/images/themes/theme1/bg.png', 'profile_background_image_url_https': 'https://abs.twimg.com/images/themes/theme1/bg.png', 'profile_background_tile': False, 'profile_image_url': 'http://pbs.twimg.com/profile_images/744597122918449152/3x3iVrGf_normal.jpg', 'profile_image_url_https': 'https://pbs.twimg.com/profile_images/744597122918449152/3x3iVrGf_normal.jpg', 'profile_banner_url': 'https://pbs.twimg.com/profile_banners/318262790/1496862875', 'profile_link_color': '1DA1F2', 'profile_sidebar_border_color': 'C0DEED', 'profile_sidebar_fill_color': 'DDEEF6', 'profile_text_color': '333333', 'profile_use_background_image': True, 'has_extended_profile': False, 'default_profile': True, 'default_profile_image': False, 'following': False, 'follow_request_sent': False, 'notifications': False, 'translator_type': 'none'}, 'geo': None, 'coordinates': None, 'place': None, 'contributors': None, 'is_quote_status': False, 'retweet_count': 0, 'favorite_count': 0, 'favorited': False, 'retweeted': False, 'possibly_sensitive': False, 'lang': 'en'}, created_at=datetime.datetime(2020, 11, 18, 18, 17, 21), id=1329126561954422785, id_str='1329126561954422785', full_text='Karachi Kings’ Sherfane Rutherford put on MI gloves in PSL, franchise gets trolled! But the player set an unlikely record of figuring in winning teams of the IPL and PSL! #MumbaiIndians https://t.co/hcgrgoUNHn', truncated=False, display_text_range=[0, 209], entities={'hashtags': [{'text': 'MumbaiIndians', 'indices': [171, 185]}], 'symbols': [], 'user_mentions': [], 'urls': [{'url': 'https://t.co/hcgrgoUNHn', 'expanded_url': 'https://indianexpress.com/article/sports/cricket/karachi-kings-sherfane-rutherford-puts-on-mi-gloves-in-psl-franchise-gets-trolled-7054205/', 'display_url': 'indianexpress.com/article/sports…', 'indices': [186, 209]}]}, metadata={'iso_language_code': 'en', 'result_type': 'recent'}, source='Twitter for Android', source_url='http://twitter.com/download/android', in_reply_to_status_id=None, in_reply_to_status_id_str=None, in_reply_to_user_id=None, in_reply_to_user_id_str=None, in_reply_to_screen_name=None, author=User(_api=<tweepy.api.API object at 0x00000244D6E13888>, _json={'id': 318262790, 'id_str': '318262790', 'name': 'Yeshwanth Kini', 'screen_name': 'YeshwanthKini', 'location': 'Mumbai, India', 'description': 'IIT-BHU & IIM-A alum. Private equity investor; CEO-India Kaup Capital. Apart from this, have opinions on all things Indian, sports to politics.', 'url': None, 'entities': {'description': {'urls': []}}, 'protected': False, 'followers_count': 262, 'friends_count': 350, 'listed_count': 23, 'created_at': 'Thu Jun 16 06:16:44 +0000 2011', 'favourites_count': 4279, 'utc_offset': None, 'time_zone': None, 'geo_enabled': False, 'verified': False, 'statuses_count': 11763, 'lang': None, 'contributors_enabled': False, 'is_translator': False, 'is_translation_enabled': False, 'profile_background_color': 'C0DEED', 'profile_background_image_url': 'http://abs.twimg.com/images/themes/theme1/bg.png', 'profile_background_image_url_https': 'https://abs.twimg.com/images/themes/theme1/bg.png', 'profile_background_tile': False, 'profile_image_url': 'http://pbs.twimg.com/profile_images/744597122918449152/3x3iVrGf_normal.jpg', 'profile_image_url_https': 'https://pbs.twimg.com/profile_images/744597122918449152/3x3iVrGf_normal.jpg', 'profile_banner_url': 'https://pbs.twimg.com/profile_banners/318262790/1496862875', 'profile_link_color': '1DA1F2', 'profile_sidebar_border_color': 'C0DEED', 'profile_sidebar_fill_color': 'DDEEF6', 'profile_text_color': '333333', 'profile_use_background_image': True, 'has_extended_profile': False, 'default_profile': True, 'default_profile_image': False, 'following': False, 'follow_request_sent': False, 'notifications': False, 'translator_type': 'none'}, id=318262790, id_str='318262790', name='Yeshwanth Kini', screen_name='YeshwanthKini', location='Mumbai, India', description='IIT-BHU & IIM-A alum. Private equity investor; CEO-India Kaup Capital. Apart from this, have opinions on all things Indian, sports to politics.', url=None, entities={'description': {'urls': []}}, protected=False, followers_count=262, friends_count=350, listed_count=23, created_at=datetime.datetime(2011, 6, 16, 6, 16, 44), favourites_count=4279, utc_offset=None, time_zone=None, geo_enabled=False, verified=False, statuses_count=11763, lang=None, contributors_enabled=False, is_translator=False, is_translation_enabled=False, profile_background_color='C0DEED', profile_background_image_url='http://abs.twimg.com/images/themes/theme1/bg.png', profile_background_image_url_https='https://abs.twimg.com/images/themes/theme1/bg.png', profile_background_tile=False, profile_image_url='http://pbs.twimg.com/profile_images/744597122918449152/3x3iVrGf_normal.jpg', profile_image_url_https='https://pbs.twimg.com/profile_images/744597122918449152/3x3iVrGf_normal.jpg', profile_banner_url='https://pbs.twimg.com/profile_banners/318262790/1496862875', profile_link_color='1DA1F2', profile_sidebar_border_color='C0DEED', profile_sidebar_fill_color='DDEEF6', profile_text_color='333333', profile_use_background_image=True, has_extended_profile=False, default_profile=True, default_profile_image=False, following=False, follow_request_sent=False, notifications=False, translator_type='none'), user=User(_api=<tweepy.api.API object at 0x00000244D6E13888>, _json={'id': 318262790, 'id_str': '318262790', 'name': 'Yeshwanth Kini', 'screen_name': 'YeshwanthKini', 'location': 'Mumbai, India', 'description': 'IIT-BHU & IIM-A alum. Private equity investor; CEO-India Kaup Capital. Apart from this, have opinions on all things Indian, sports to politics.', 'url': None, 'entities': {'description': {'urls': []}}, 'protected': False, 'followers_count': 262, 'friends_count': 350, 'listed_count': 23, 'created_at': 'Thu Jun 16 06:16:44 +0000 2011', 'favourites_count': 4279, 'utc_offset': None, 'time_zone': None, 'geo_enabled': False, 'verified': False, 'statuses_count': 11763, 'lang': None, 'contributors_enabled': False, 'is_translator': False, 'is_translation_enabled': False, 'profile_background_color': 'C0DEED', 'profile_background_image_url': 'http://abs.twimg.com/images/themes/theme1/bg.png', 'profile_background_image_url_https': 'https://abs.twimg.com/images/themes/theme1/bg.png', 'profile_background_tile': False, 'profile_image_url': 'http://pbs.twimg.com/profile_images/744597122918449152/3x3iVrGf_normal.jpg', 'profile_image_url_https': 'https://pbs.twimg.com/profile_images/744597122918449152/3x3iVrGf_normal.jpg', 'profile_banner_url': 'https://pbs.twimg.com/profile_banners/318262790/1496862875', 'profile_link_color': '1DA1F2', 'profile_sidebar_border_color': 'C0DEED', 'profile_sidebar_fill_color': 'DDEEF6', 'profile_text_color': '333333', 'profile_use_background_image': True, 'has_extended_profile': False, 'default_profile': True, 'default_profile_image': False, 'following': False, 'follow_request_sent': False, 'notifications': False, 'translator_type': 'none'}, id=318262790, id_str='318262790', name='Yeshwanth Kini', screen_name='YeshwanthKini', location='Mumbai, India', description='IIT-BHU & IIM-A alum. Private equity investor; CEO-India Kaup Capital. Apart from this, have opinions on all things Indian, sports to politics.', url=None, entities={'description': {'urls': []}}, protected=False, followers_count=262, friends_count=350, listed_count=23, created_at=datetime.datetime(2011, 6, 16, 6, 16, 44), favourites_count=4279, utc_offset=None, time_zone=None, geo_enabled=False, verified=False, statuses_count=11763, lang=None, contributors_enabled=False, is_translator=False, is_translation_enabled=False, profile_background_color='C0DEED', profile_background_image_url='http://abs.twimg.com/images/themes/theme1/bg.png', profile_background_image_url_https='https://abs.twimg.com/images/themes/theme1/bg.png', profile_background_tile=False, profile_image_url='http://pbs.twimg.com/profile_images/744597122918449152/3x3iVrGf_normal.jpg', profile_image_url_https='https://pbs.twimg.com/profile_images/744597122918449152/3x3iVrGf_normal.jpg', profile_banner_url='https://pbs.twimg.com/profile_banners/318262790/1496862875', profile_link_color='1DA1F2', profile_sidebar_border_color='C0DEED', profile_sidebar_fill_color='DDEEF6', profile_text_color='333333', profile_use_background_image=True, has_extended_profile=False, default_profile=True, default_profile_image=False, following=False, follow_request_sent=False, notifications=False, translator_type='none'), geo=None, coordinates=None, place=None, contributors=None, is_quote_status=False, retweet_count=0, favorite_count=0, favorited=False, retweeted=False, possibly_sensitive=False, lang='en') \n",
      "\n",
      ".....................................\n",
      "\n",
      "Status(_api=<tweepy.api.API object at 0x00000244D6E13888>, _json={'created_at': 'Wed Nov 18 08:16:59 +0000 2020', 'id': 1328975476224782336, 'id_str': '1328975476224782336', 'full_text': \"@VamosVirat @HPrisom @riyanparagfan @mufaddal_vohra There is something known as brand. Apart from MI, RCB, everyone doesn't have that, and Dhoni would bring that. IPL is much more than winning cups for owners.. You must know that RCB is a flop franchise performance wise, but very successful economically.\", 'truncated': False, 'display_text_range': [52, 305], 'entities': {'hashtags': [], 'symbols': [], 'user_mentions': [{'screen_name': 'VamosVirat', 'name': 'Aivy 🌈', 'id': 998163810027388928, 'id_str': '998163810027388928', 'indices': [0, 11]}, {'screen_name': 'HPrisom', 'name': 'iPrisom', 'id': 1111577464961036288, 'id_str': '1111577464961036288', 'indices': [12, 20]}, {'screen_name': 'riyanparagfan', 'name': 'Riyan Parag Fan', 'id': 1026129852171079680, 'id_str': '1026129852171079680', 'indices': [21, 35]}, {'screen_name': 'mufaddal_vohra', 'name': 'Mufaddal Vohra', 'id': 3133996860, 'id_str': '3133996860', 'indices': [36, 51]}], 'urls': []}, 'metadata': {'iso_language_code': 'en', 'result_type': 'recent'}, 'source': '<a href=\"http://twitter.com/download/android\" rel=\"nofollow\">Twitter for Android</a>', 'in_reply_to_status_id': 1328765872823955457, 'in_reply_to_status_id_str': '1328765872823955457', 'in_reply_to_user_id': 998163810027388928, 'in_reply_to_user_id_str': '998163810027388928', 'in_reply_to_screen_name': 'VamosVirat', 'user': {'id': 1270053432540438528, 'id_str': '1270053432540438528', 'name': 'Sanchita', 'screen_name': 'SanchitaSingla', 'location': '', 'description': '| Abnormally Normal |\\n\\n\\n\\n\\n\\n\\n\\n\\n\\n\\n\\n\\n\\n\\n\\n\\n\\n\\n\\n\\n\\n\\n\\n\\n\\n\\n\\n\\n\\n\\n\\n\\n\\n\\n\\n\\n\\n\\n\\n\\n\\n\\n\\n\\n\\n\\n\\n\\n\\n\\n| Indian 🇮🇳 |\\n| MBBS Student 2018-23⚕️ |', 'url': None, 'entities': {'description': {'urls': []}}, 'protected': False, 'followers_count': 263, 'friends_count': 40, 'listed_count': 0, 'created_at': 'Mon Jun 08 18:01:57 +0000 2020', 'favourites_count': 437, 'utc_offset': None, 'time_zone': None, 'geo_enabled': False, 'verified': False, 'statuses_count': 893, 'lang': None, 'contributors_enabled': False, 'is_translator': False, 'is_translation_enabled': False, 'profile_background_color': 'F5F8FA', 'profile_background_image_url': None, 'profile_background_image_url_https': None, 'profile_background_tile': False, 'profile_image_url': 'http://pbs.twimg.com/profile_images/1317088798426030081/tf0lykQg_normal.jpg', 'profile_image_url_https': 'https://pbs.twimg.com/profile_images/1317088798426030081/tf0lykQg_normal.jpg', 'profile_link_color': '1DA1F2', 'profile_sidebar_border_color': 'C0DEED', 'profile_sidebar_fill_color': 'DDEEF6', 'profile_text_color': '333333', 'profile_use_background_image': True, 'has_extended_profile': False, 'default_profile': True, 'default_profile_image': False, 'following': False, 'follow_request_sent': False, 'notifications': False, 'translator_type': 'none'}, 'geo': None, 'coordinates': None, 'place': None, 'contributors': None, 'is_quote_status': False, 'retweet_count': 0, 'favorite_count': 1, 'favorited': False, 'retweeted': False, 'lang': 'en'}, created_at=datetime.datetime(2020, 11, 18, 8, 16, 59), id=1328975476224782336, id_str='1328975476224782336', full_text=\"@VamosVirat @HPrisom @riyanparagfan @mufaddal_vohra There is something known as brand. Apart from MI, RCB, everyone doesn't have that, and Dhoni would bring that. IPL is much more than winning cups for owners.. You must know that RCB is a flop franchise performance wise, but very successful economically.\", truncated=False, display_text_range=[52, 305], entities={'hashtags': [], 'symbols': [], 'user_mentions': [{'screen_name': 'VamosVirat', 'name': 'Aivy 🌈', 'id': 998163810027388928, 'id_str': '998163810027388928', 'indices': [0, 11]}, {'screen_name': 'HPrisom', 'name': 'iPrisom', 'id': 1111577464961036288, 'id_str': '1111577464961036288', 'indices': [12, 20]}, {'screen_name': 'riyanparagfan', 'name': 'Riyan Parag Fan', 'id': 1026129852171079680, 'id_str': '1026129852171079680', 'indices': [21, 35]}, {'screen_name': 'mufaddal_vohra', 'name': 'Mufaddal Vohra', 'id': 3133996860, 'id_str': '3133996860', 'indices': [36, 51]}], 'urls': []}, metadata={'iso_language_code': 'en', 'result_type': 'recent'}, source='Twitter for Android', source_url='http://twitter.com/download/android', in_reply_to_status_id=1328765872823955457, in_reply_to_status_id_str='1328765872823955457', in_reply_to_user_id=998163810027388928, in_reply_to_user_id_str='998163810027388928', in_reply_to_screen_name='VamosVirat', author=User(_api=<tweepy.api.API object at 0x00000244D6E13888>, _json={'id': 1270053432540438528, 'id_str': '1270053432540438528', 'name': 'Sanchita', 'screen_name': 'SanchitaSingla', 'location': '', 'description': '| Abnormally Normal |\\n\\n\\n\\n\\n\\n\\n\\n\\n\\n\\n\\n\\n\\n\\n\\n\\n\\n\\n\\n\\n\\n\\n\\n\\n\\n\\n\\n\\n\\n\\n\\n\\n\\n\\n\\n\\n\\n\\n\\n\\n\\n\\n\\n\\n\\n\\n\\n\\n\\n\\n| Indian 🇮🇳 |\\n| MBBS Student 2018-23⚕️ |', 'url': None, 'entities': {'description': {'urls': []}}, 'protected': False, 'followers_count': 263, 'friends_count': 40, 'listed_count': 0, 'created_at': 'Mon Jun 08 18:01:57 +0000 2020', 'favourites_count': 437, 'utc_offset': None, 'time_zone': None, 'geo_enabled': False, 'verified': False, 'statuses_count': 893, 'lang': None, 'contributors_enabled': False, 'is_translator': False, 'is_translation_enabled': False, 'profile_background_color': 'F5F8FA', 'profile_background_image_url': None, 'profile_background_image_url_https': None, 'profile_background_tile': False, 'profile_image_url': 'http://pbs.twimg.com/profile_images/1317088798426030081/tf0lykQg_normal.jpg', 'profile_image_url_https': 'https://pbs.twimg.com/profile_images/1317088798426030081/tf0lykQg_normal.jpg', 'profile_link_color': '1DA1F2', 'profile_sidebar_border_color': 'C0DEED', 'profile_sidebar_fill_color': 'DDEEF6', 'profile_text_color': '333333', 'profile_use_background_image': True, 'has_extended_profile': False, 'default_profile': True, 'default_profile_image': False, 'following': False, 'follow_request_sent': False, 'notifications': False, 'translator_type': 'none'}, id=1270053432540438528, id_str='1270053432540438528', name='Sanchita', screen_name='SanchitaSingla', location='', description='| Abnormally Normal |\\n\\n\\n\\n\\n\\n\\n\\n\\n\\n\\n\\n\\n\\n\\n\\n\\n\\n\\n\\n\\n\\n\\n\\n\\n\\n\\n\\n\\n\\n\\n\\n\\n\\n\\n\\n\\n\\n\\n\\n\\n\\n\\n\\n\\n\\n\\n\\n\\n\\n\\n| Indian 🇮🇳 |\\n| MBBS Student 2018-23⚕️ |', url=None, entities={'description': {'urls': []}}, protected=False, followers_count=263, friends_count=40, listed_count=0, created_at=datetime.datetime(2020, 6, 8, 18, 1, 57), favourites_count=437, utc_offset=None, time_zone=None, geo_enabled=False, verified=False, statuses_count=893, lang=None, contributors_enabled=False, is_translator=False, is_translation_enabled=False, profile_background_color='F5F8FA', profile_background_image_url=None, profile_background_image_url_https=None, profile_background_tile=False, profile_image_url='http://pbs.twimg.com/profile_images/1317088798426030081/tf0lykQg_normal.jpg', profile_image_url_https='https://pbs.twimg.com/profile_images/1317088798426030081/tf0lykQg_normal.jpg', profile_link_color='1DA1F2', profile_sidebar_border_color='C0DEED', profile_sidebar_fill_color='DDEEF6', profile_text_color='333333', profile_use_background_image=True, has_extended_profile=False, default_profile=True, default_profile_image=False, following=False, follow_request_sent=False, notifications=False, translator_type='none'), user=User(_api=<tweepy.api.API object at 0x00000244D6E13888>, _json={'id': 1270053432540438528, 'id_str': '1270053432540438528', 'name': 'Sanchita', 'screen_name': 'SanchitaSingla', 'location': '', 'description': '| Abnormally Normal |\\n\\n\\n\\n\\n\\n\\n\\n\\n\\n\\n\\n\\n\\n\\n\\n\\n\\n\\n\\n\\n\\n\\n\\n\\n\\n\\n\\n\\n\\n\\n\\n\\n\\n\\n\\n\\n\\n\\n\\n\\n\\n\\n\\n\\n\\n\\n\\n\\n\\n\\n| Indian 🇮🇳 |\\n| MBBS Student 2018-23⚕️ |', 'url': None, 'entities': {'description': {'urls': []}}, 'protected': False, 'followers_count': 263, 'friends_count': 40, 'listed_count': 0, 'created_at': 'Mon Jun 08 18:01:57 +0000 2020', 'favourites_count': 437, 'utc_offset': None, 'time_zone': None, 'geo_enabled': False, 'verified': False, 'statuses_count': 893, 'lang': None, 'contributors_enabled': False, 'is_translator': False, 'is_translation_enabled': False, 'profile_background_color': 'F5F8FA', 'profile_background_image_url': None, 'profile_background_image_url_https': None, 'profile_background_tile': False, 'profile_image_url': 'http://pbs.twimg.com/profile_images/1317088798426030081/tf0lykQg_normal.jpg', 'profile_image_url_https': 'https://pbs.twimg.com/profile_images/1317088798426030081/tf0lykQg_normal.jpg', 'profile_link_color': '1DA1F2', 'profile_sidebar_border_color': 'C0DEED', 'profile_sidebar_fill_color': 'DDEEF6', 'profile_text_color': '333333', 'profile_use_background_image': True, 'has_extended_profile': False, 'default_profile': True, 'default_profile_image': False, 'following': False, 'follow_request_sent': False, 'notifications': False, 'translator_type': 'none'}, id=1270053432540438528, id_str='1270053432540438528', name='Sanchita', screen_name='SanchitaSingla', location='', description='| Abnormally Normal |\\n\\n\\n\\n\\n\\n\\n\\n\\n\\n\\n\\n\\n\\n\\n\\n\\n\\n\\n\\n\\n\\n\\n\\n\\n\\n\\n\\n\\n\\n\\n\\n\\n\\n\\n\\n\\n\\n\\n\\n\\n\\n\\n\\n\\n\\n\\n\\n\\n\\n\\n| Indian 🇮🇳 |\\n| MBBS Student 2018-23⚕️ |', url=None, entities={'description': {'urls': []}}, protected=False, followers_count=263, friends_count=40, listed_count=0, created_at=datetime.datetime(2020, 6, 8, 18, 1, 57), favourites_count=437, utc_offset=None, time_zone=None, geo_enabled=False, verified=False, statuses_count=893, lang=None, contributors_enabled=False, is_translator=False, is_translation_enabled=False, profile_background_color='F5F8FA', profile_background_image_url=None, profile_background_image_url_https=None, profile_background_tile=False, profile_image_url='http://pbs.twimg.com/profile_images/1317088798426030081/tf0lykQg_normal.jpg', profile_image_url_https='https://pbs.twimg.com/profile_images/1317088798426030081/tf0lykQg_normal.jpg', profile_link_color='1DA1F2', profile_sidebar_border_color='C0DEED', profile_sidebar_fill_color='DDEEF6', profile_text_color='333333', profile_use_background_image=True, has_extended_profile=False, default_profile=True, default_profile_image=False, following=False, follow_request_sent=False, notifications=False, translator_type='none'), geo=None, coordinates=None, place=None, contributors=None, is_quote_status=False, retweet_count=0, favorite_count=1, favorited=False, retweeted=False, lang='en') \n",
      "\n",
      ".....................................\n",
      "\n",
      "Status(_api=<tweepy.api.API object at 0x00000244D6E13888>, _json={'created_at': 'Tue Nov 17 14:03:25 +0000 2020', 'id': 1328700271816425473, 'id_str': '1328700271816425473', 'full_text': '@mipaltan @ImRo45 Make it Hattrick of winning IPL title s....Come On MI ....lets do it😍😍😍😘😘😘', 'truncated': False, 'display_text_range': [18, 92], 'entities': {'hashtags': [], 'symbols': [], 'user_mentions': [{'screen_name': 'mipaltan', 'name': 'Mumbai Indians', 'id': 106345557, 'id_str': '106345557', 'indices': [0, 9]}, {'screen_name': 'ImRo45', 'name': 'Rohit Sharma', 'id': 121046433, 'id_str': '121046433', 'indices': [10, 17]}], 'urls': []}, 'metadata': {'iso_language_code': 'en', 'result_type': 'recent'}, 'source': '<a href=\"http://twitter.com/download/android\" rel=\"nofollow\">Twitter for Android</a>', 'in_reply_to_status_id': 1328676961711919105, 'in_reply_to_status_id_str': '1328676961711919105', 'in_reply_to_user_id': 106345557, 'in_reply_to_user_id_str': '106345557', 'in_reply_to_screen_name': 'mipaltan', 'user': {'id': 565339402, 'id_str': '565339402', 'name': 'Sagar Mane', 'screen_name': 'saggyn95', 'location': 'kolhapur', 'description': 'i love to b cool....i believes in science..', 'url': None, 'entities': {'description': {'urls': []}}, 'protected': False, 'followers_count': 149, 'friends_count': 1332, 'listed_count': 3, 'created_at': 'Sat Apr 28 10:27:38 +0000 2012', 'favourites_count': 40835, 'utc_offset': None, 'time_zone': None, 'geo_enabled': True, 'verified': False, 'statuses_count': 10997, 'lang': None, 'contributors_enabled': False, 'is_translator': False, 'is_translation_enabled': False, 'profile_background_color': 'ACDED6', 'profile_background_image_url': 'http://abs.twimg.com/images/themes/theme1/bg.png', 'profile_background_image_url_https': 'https://abs.twimg.com/images/themes/theme1/bg.png', 'profile_background_tile': True, 'profile_image_url': 'http://pbs.twimg.com/profile_images/1305797509684457472/8VA41d8T_normal.jpg', 'profile_image_url_https': 'https://pbs.twimg.com/profile_images/1305797509684457472/8VA41d8T_normal.jpg', 'profile_banner_url': 'https://pbs.twimg.com/profile_banners/565339402/1535715763', 'profile_link_color': '038543', 'profile_sidebar_border_color': 'FFFFFF', 'profile_sidebar_fill_color': 'DDEEF6', 'profile_text_color': '333333', 'profile_use_background_image': True, 'has_extended_profile': True, 'default_profile': False, 'default_profile_image': False, 'following': False, 'follow_request_sent': False, 'notifications': False, 'translator_type': 'none'}, 'geo': None, 'coordinates': None, 'place': None, 'contributors': None, 'is_quote_status': False, 'retweet_count': 1, 'favorite_count': 1, 'favorited': False, 'retweeted': False, 'lang': 'en'}, created_at=datetime.datetime(2020, 11, 17, 14, 3, 25), id=1328700271816425473, id_str='1328700271816425473', full_text='@mipaltan @ImRo45 Make it Hattrick of winning IPL title s....Come On MI ....lets do it😍😍😍😘😘😘', truncated=False, display_text_range=[18, 92], entities={'hashtags': [], 'symbols': [], 'user_mentions': [{'screen_name': 'mipaltan', 'name': 'Mumbai Indians', 'id': 106345557, 'id_str': '106345557', 'indices': [0, 9]}, {'screen_name': 'ImRo45', 'name': 'Rohit Sharma', 'id': 121046433, 'id_str': '121046433', 'indices': [10, 17]}], 'urls': []}, metadata={'iso_language_code': 'en', 'result_type': 'recent'}, source='Twitter for Android', source_url='http://twitter.com/download/android', in_reply_to_status_id=1328676961711919105, in_reply_to_status_id_str='1328676961711919105', in_reply_to_user_id=106345557, in_reply_to_user_id_str='106345557', in_reply_to_screen_name='mipaltan', author=User(_api=<tweepy.api.API object at 0x00000244D6E13888>, _json={'id': 565339402, 'id_str': '565339402', 'name': 'Sagar Mane', 'screen_name': 'saggyn95', 'location': 'kolhapur', 'description': 'i love to b cool....i believes in science..', 'url': None, 'entities': {'description': {'urls': []}}, 'protected': False, 'followers_count': 149, 'friends_count': 1332, 'listed_count': 3, 'created_at': 'Sat Apr 28 10:27:38 +0000 2012', 'favourites_count': 40835, 'utc_offset': None, 'time_zone': None, 'geo_enabled': True, 'verified': False, 'statuses_count': 10997, 'lang': None, 'contributors_enabled': False, 'is_translator': False, 'is_translation_enabled': False, 'profile_background_color': 'ACDED6', 'profile_background_image_url': 'http://abs.twimg.com/images/themes/theme1/bg.png', 'profile_background_image_url_https': 'https://abs.twimg.com/images/themes/theme1/bg.png', 'profile_background_tile': True, 'profile_image_url': 'http://pbs.twimg.com/profile_images/1305797509684457472/8VA41d8T_normal.jpg', 'profile_image_url_https': 'https://pbs.twimg.com/profile_images/1305797509684457472/8VA41d8T_normal.jpg', 'profile_banner_url': 'https://pbs.twimg.com/profile_banners/565339402/1535715763', 'profile_link_color': '038543', 'profile_sidebar_border_color': 'FFFFFF', 'profile_sidebar_fill_color': 'DDEEF6', 'profile_text_color': '333333', 'profile_use_background_image': True, 'has_extended_profile': True, 'default_profile': False, 'default_profile_image': False, 'following': False, 'follow_request_sent': False, 'notifications': False, 'translator_type': 'none'}, id=565339402, id_str='565339402', name='Sagar Mane', screen_name='saggyn95', location='kolhapur', description='i love to b cool....i believes in science..', url=None, entities={'description': {'urls': []}}, protected=False, followers_count=149, friends_count=1332, listed_count=3, created_at=datetime.datetime(2012, 4, 28, 10, 27, 38), favourites_count=40835, utc_offset=None, time_zone=None, geo_enabled=True, verified=False, statuses_count=10997, lang=None, contributors_enabled=False, is_translator=False, is_translation_enabled=False, profile_background_color='ACDED6', profile_background_image_url='http://abs.twimg.com/images/themes/theme1/bg.png', profile_background_image_url_https='https://abs.twimg.com/images/themes/theme1/bg.png', profile_background_tile=True, profile_image_url='http://pbs.twimg.com/profile_images/1305797509684457472/8VA41d8T_normal.jpg', profile_image_url_https='https://pbs.twimg.com/profile_images/1305797509684457472/8VA41d8T_normal.jpg', profile_banner_url='https://pbs.twimg.com/profile_banners/565339402/1535715763', profile_link_color='038543', profile_sidebar_border_color='FFFFFF', profile_sidebar_fill_color='DDEEF6', profile_text_color='333333', profile_use_background_image=True, has_extended_profile=True, default_profile=False, default_profile_image=False, following=False, follow_request_sent=False, notifications=False, translator_type='none'), user=User(_api=<tweepy.api.API object at 0x00000244D6E13888>, _json={'id': 565339402, 'id_str': '565339402', 'name': 'Sagar Mane', 'screen_name': 'saggyn95', 'location': 'kolhapur', 'description': 'i love to b cool....i believes in science..', 'url': None, 'entities': {'description': {'urls': []}}, 'protected': False, 'followers_count': 149, 'friends_count': 1332, 'listed_count': 3, 'created_at': 'Sat Apr 28 10:27:38 +0000 2012', 'favourites_count': 40835, 'utc_offset': None, 'time_zone': None, 'geo_enabled': True, 'verified': False, 'statuses_count': 10997, 'lang': None, 'contributors_enabled': False, 'is_translator': False, 'is_translation_enabled': False, 'profile_background_color': 'ACDED6', 'profile_background_image_url': 'http://abs.twimg.com/images/themes/theme1/bg.png', 'profile_background_image_url_https': 'https://abs.twimg.com/images/themes/theme1/bg.png', 'profile_background_tile': True, 'profile_image_url': 'http://pbs.twimg.com/profile_images/1305797509684457472/8VA41d8T_normal.jpg', 'profile_image_url_https': 'https://pbs.twimg.com/profile_images/1305797509684457472/8VA41d8T_normal.jpg', 'profile_banner_url': 'https://pbs.twimg.com/profile_banners/565339402/1535715763', 'profile_link_color': '038543', 'profile_sidebar_border_color': 'FFFFFF', 'profile_sidebar_fill_color': 'DDEEF6', 'profile_text_color': '333333', 'profile_use_background_image': True, 'has_extended_profile': True, 'default_profile': False, 'default_profile_image': False, 'following': False, 'follow_request_sent': False, 'notifications': False, 'translator_type': 'none'}, id=565339402, id_str='565339402', name='Sagar Mane', screen_name='saggyn95', location='kolhapur', description='i love to b cool....i believes in science..', url=None, entities={'description': {'urls': []}}, protected=False, followers_count=149, friends_count=1332, listed_count=3, created_at=datetime.datetime(2012, 4, 28, 10, 27, 38), favourites_count=40835, utc_offset=None, time_zone=None, geo_enabled=True, verified=False, statuses_count=10997, lang=None, contributors_enabled=False, is_translator=False, is_translation_enabled=False, profile_background_color='ACDED6', profile_background_image_url='http://abs.twimg.com/images/themes/theme1/bg.png', profile_background_image_url_https='https://abs.twimg.com/images/themes/theme1/bg.png', profile_background_tile=True, profile_image_url='http://pbs.twimg.com/profile_images/1305797509684457472/8VA41d8T_normal.jpg', profile_image_url_https='https://pbs.twimg.com/profile_images/1305797509684457472/8VA41d8T_normal.jpg', profile_banner_url='https://pbs.twimg.com/profile_banners/565339402/1535715763', profile_link_color='038543', profile_sidebar_border_color='FFFFFF', profile_sidebar_fill_color='DDEEF6', profile_text_color='333333', profile_use_background_image=True, has_extended_profile=True, default_profile=False, default_profile_image=False, following=False, follow_request_sent=False, notifications=False, translator_type='none'), geo=None, coordinates=None, place=None, contributors=None, is_quote_status=False, retweet_count=1, favorite_count=1, favorited=False, retweeted=False, lang='en') \n",
      "\n",
      ".....................................\n",
      "\n",
      "Status(_api=<tweepy.api.API object at 0x00000244D6E13888>, _json={'created_at': 'Tue Nov 17 05:24:31 +0000 2020', 'id': 1328569685378469889, 'id_str': '1328569685378469889', 'full_text': '🔊 This season of #IPL2020 ended with Mumbai Indians (MI) defeating Delhi Capitals by 5 wickets and winning their fifth IPL trophy. Over time, MI seems to have become a sporting dynasty. But what has made that possible?\\n\\n@IExpressSports\\n\\nListen: https://t.co/74WJSaEAbD', 'truncated': False, 'display_text_range': [0, 268], 'entities': {'hashtags': [{'text': 'IPL2020', 'indices': [17, 25]}], 'symbols': [], 'user_mentions': [{'screen_name': 'IExpressSports', 'name': 'Express Sports', 'id': 1666804076, 'id_str': '1666804076', 'indices': [220, 235]}], 'urls': [{'url': 'https://t.co/74WJSaEAbD', 'expanded_url': 'https://audioboom.com/posts/7729727-99-94-how-mumbai-indians-became-the-new-ipl-kings', 'display_url': 'audioboom.com/posts/7729727-…', 'indices': [245, 268]}]}, 'metadata': {'iso_language_code': 'en', 'result_type': 'recent'}, 'source': '<a href=\"http://twitter.com/download/android\" rel=\"nofollow\">Twitter for Android</a>', 'in_reply_to_status_id': None, 'in_reply_to_status_id_str': None, 'in_reply_to_user_id': None, 'in_reply_to_user_id_str': None, 'in_reply_to_screen_name': None, 'user': {'id': 993850266339463168, 'id_str': '993850266339463168', 'name': 'Express Audio', 'screen_name': 'ExpressPodcasts', 'location': 'Noida, India', 'description': 'Podcasts and audio shows brought to you by The Indian Express.', 'url': 'https://t.co/Kyxe89NRqW', 'entities': {'url': {'urls': [{'url': 'https://t.co/Kyxe89NRqW', 'expanded_url': 'http://indianexpress.com/audio', 'display_url': 'indianexpress.com/audio', 'indices': [0, 23]}]}, 'description': {'urls': []}}, 'protected': False, 'followers_count': 2628, 'friends_count': 103, 'listed_count': 19, 'created_at': 'Tue May 08 13:49:03 +0000 2018', 'favourites_count': 400, 'utc_offset': None, 'time_zone': None, 'geo_enabled': False, 'verified': False, 'statuses_count': 3191, 'lang': None, 'contributors_enabled': False, 'is_translator': False, 'is_translation_enabled': False, 'profile_background_color': '000000', 'profile_background_image_url': 'http://abs.twimg.com/images/themes/theme1/bg.png', 'profile_background_image_url_https': 'https://abs.twimg.com/images/themes/theme1/bg.png', 'profile_background_tile': False, 'profile_image_url': 'http://pbs.twimg.com/profile_images/1011174629384294400/-jFa3_7e_normal.jpg', 'profile_image_url_https': 'https://pbs.twimg.com/profile_images/1011174629384294400/-jFa3_7e_normal.jpg', 'profile_banner_url': 'https://pbs.twimg.com/profile_banners/993850266339463168/1540798148', 'profile_link_color': '981CEB', 'profile_sidebar_border_color': '000000', 'profile_sidebar_fill_color': '000000', 'profile_text_color': '000000', 'profile_use_background_image': False, 'has_extended_profile': False, 'default_profile': False, 'default_profile_image': False, 'following': False, 'follow_request_sent': False, 'notifications': False, 'translator_type': 'none'}, 'geo': None, 'coordinates': None, 'place': None, 'contributors': None, 'is_quote_status': False, 'retweet_count': 1, 'favorite_count': 5, 'favorited': False, 'retweeted': False, 'possibly_sensitive': False, 'lang': 'en'}, created_at=datetime.datetime(2020, 11, 17, 5, 24, 31), id=1328569685378469889, id_str='1328569685378469889', full_text='🔊 This season of #IPL2020 ended with Mumbai Indians (MI) defeating Delhi Capitals by 5 wickets and winning their fifth IPL trophy. Over time, MI seems to have become a sporting dynasty. But what has made that possible?\\n\\n@IExpressSports\\n\\nListen: https://t.co/74WJSaEAbD', truncated=False, display_text_range=[0, 268], entities={'hashtags': [{'text': 'IPL2020', 'indices': [17, 25]}], 'symbols': [], 'user_mentions': [{'screen_name': 'IExpressSports', 'name': 'Express Sports', 'id': 1666804076, 'id_str': '1666804076', 'indices': [220, 235]}], 'urls': [{'url': 'https://t.co/74WJSaEAbD', 'expanded_url': 'https://audioboom.com/posts/7729727-99-94-how-mumbai-indians-became-the-new-ipl-kings', 'display_url': 'audioboom.com/posts/7729727-…', 'indices': [245, 268]}]}, metadata={'iso_language_code': 'en', 'result_type': 'recent'}, source='Twitter for Android', source_url='http://twitter.com/download/android', in_reply_to_status_id=None, in_reply_to_status_id_str=None, in_reply_to_user_id=None, in_reply_to_user_id_str=None, in_reply_to_screen_name=None, author=User(_api=<tweepy.api.API object at 0x00000244D6E13888>, _json={'id': 993850266339463168, 'id_str': '993850266339463168', 'name': 'Express Audio', 'screen_name': 'ExpressPodcasts', 'location': 'Noida, India', 'description': 'Podcasts and audio shows brought to you by The Indian Express.', 'url': 'https://t.co/Kyxe89NRqW', 'entities': {'url': {'urls': [{'url': 'https://t.co/Kyxe89NRqW', 'expanded_url': 'http://indianexpress.com/audio', 'display_url': 'indianexpress.com/audio', 'indices': [0, 23]}]}, 'description': {'urls': []}}, 'protected': False, 'followers_count': 2628, 'friends_count': 103, 'listed_count': 19, 'created_at': 'Tue May 08 13:49:03 +0000 2018', 'favourites_count': 400, 'utc_offset': None, 'time_zone': None, 'geo_enabled': False, 'verified': False, 'statuses_count': 3191, 'lang': None, 'contributors_enabled': False, 'is_translator': False, 'is_translation_enabled': False, 'profile_background_color': '000000', 'profile_background_image_url': 'http://abs.twimg.com/images/themes/theme1/bg.png', 'profile_background_image_url_https': 'https://abs.twimg.com/images/themes/theme1/bg.png', 'profile_background_tile': False, 'profile_image_url': 'http://pbs.twimg.com/profile_images/1011174629384294400/-jFa3_7e_normal.jpg', 'profile_image_url_https': 'https://pbs.twimg.com/profile_images/1011174629384294400/-jFa3_7e_normal.jpg', 'profile_banner_url': 'https://pbs.twimg.com/profile_banners/993850266339463168/1540798148', 'profile_link_color': '981CEB', 'profile_sidebar_border_color': '000000', 'profile_sidebar_fill_color': '000000', 'profile_text_color': '000000', 'profile_use_background_image': False, 'has_extended_profile': False, 'default_profile': False, 'default_profile_image': False, 'following': False, 'follow_request_sent': False, 'notifications': False, 'translator_type': 'none'}, id=993850266339463168, id_str='993850266339463168', name='Express Audio', screen_name='ExpressPodcasts', location='Noida, India', description='Podcasts and audio shows brought to you by The Indian Express.', url='https://t.co/Kyxe89NRqW', entities={'url': {'urls': [{'url': 'https://t.co/Kyxe89NRqW', 'expanded_url': 'http://indianexpress.com/audio', 'display_url': 'indianexpress.com/audio', 'indices': [0, 23]}]}, 'description': {'urls': []}}, protected=False, followers_count=2628, friends_count=103, listed_count=19, created_at=datetime.datetime(2018, 5, 8, 13, 49, 3), favourites_count=400, utc_offset=None, time_zone=None, geo_enabled=False, verified=False, statuses_count=3191, lang=None, contributors_enabled=False, is_translator=False, is_translation_enabled=False, profile_background_color='000000', profile_background_image_url='http://abs.twimg.com/images/themes/theme1/bg.png', profile_background_image_url_https='https://abs.twimg.com/images/themes/theme1/bg.png', profile_background_tile=False, profile_image_url='http://pbs.twimg.com/profile_images/1011174629384294400/-jFa3_7e_normal.jpg', profile_image_url_https='https://pbs.twimg.com/profile_images/1011174629384294400/-jFa3_7e_normal.jpg', profile_banner_url='https://pbs.twimg.com/profile_banners/993850266339463168/1540798148', profile_link_color='981CEB', profile_sidebar_border_color='000000', profile_sidebar_fill_color='000000', profile_text_color='000000', profile_use_background_image=False, has_extended_profile=False, default_profile=False, default_profile_image=False, following=False, follow_request_sent=False, notifications=False, translator_type='none'), user=User(_api=<tweepy.api.API object at 0x00000244D6E13888>, _json={'id': 993850266339463168, 'id_str': '993850266339463168', 'name': 'Express Audio', 'screen_name': 'ExpressPodcasts', 'location': 'Noida, India', 'description': 'Podcasts and audio shows brought to you by The Indian Express.', 'url': 'https://t.co/Kyxe89NRqW', 'entities': {'url': {'urls': [{'url': 'https://t.co/Kyxe89NRqW', 'expanded_url': 'http://indianexpress.com/audio', 'display_url': 'indianexpress.com/audio', 'indices': [0, 23]}]}, 'description': {'urls': []}}, 'protected': False, 'followers_count': 2628, 'friends_count': 103, 'listed_count': 19, 'created_at': 'Tue May 08 13:49:03 +0000 2018', 'favourites_count': 400, 'utc_offset': None, 'time_zone': None, 'geo_enabled': False, 'verified': False, 'statuses_count': 3191, 'lang': None, 'contributors_enabled': False, 'is_translator': False, 'is_translation_enabled': False, 'profile_background_color': '000000', 'profile_background_image_url': 'http://abs.twimg.com/images/themes/theme1/bg.png', 'profile_background_image_url_https': 'https://abs.twimg.com/images/themes/theme1/bg.png', 'profile_background_tile': False, 'profile_image_url': 'http://pbs.twimg.com/profile_images/1011174629384294400/-jFa3_7e_normal.jpg', 'profile_image_url_https': 'https://pbs.twimg.com/profile_images/1011174629384294400/-jFa3_7e_normal.jpg', 'profile_banner_url': 'https://pbs.twimg.com/profile_banners/993850266339463168/1540798148', 'profile_link_color': '981CEB', 'profile_sidebar_border_color': '000000', 'profile_sidebar_fill_color': '000000', 'profile_text_color': '000000', 'profile_use_background_image': False, 'has_extended_profile': False, 'default_profile': False, 'default_profile_image': False, 'following': False, 'follow_request_sent': False, 'notifications': False, 'translator_type': 'none'}, id=993850266339463168, id_str='993850266339463168', name='Express Audio', screen_name='ExpressPodcasts', location='Noida, India', description='Podcasts and audio shows brought to you by The Indian Express.', url='https://t.co/Kyxe89NRqW', entities={'url': {'urls': [{'url': 'https://t.co/Kyxe89NRqW', 'expanded_url': 'http://indianexpress.com/audio', 'display_url': 'indianexpress.com/audio', 'indices': [0, 23]}]}, 'description': {'urls': []}}, protected=False, followers_count=2628, friends_count=103, listed_count=19, created_at=datetime.datetime(2018, 5, 8, 13, 49, 3), favourites_count=400, utc_offset=None, time_zone=None, geo_enabled=False, verified=False, statuses_count=3191, lang=None, contributors_enabled=False, is_translator=False, is_translation_enabled=False, profile_background_color='000000', profile_background_image_url='http://abs.twimg.com/images/themes/theme1/bg.png', profile_background_image_url_https='https://abs.twimg.com/images/themes/theme1/bg.png', profile_background_tile=False, profile_image_url='http://pbs.twimg.com/profile_images/1011174629384294400/-jFa3_7e_normal.jpg', profile_image_url_https='https://pbs.twimg.com/profile_images/1011174629384294400/-jFa3_7e_normal.jpg', profile_banner_url='https://pbs.twimg.com/profile_banners/993850266339463168/1540798148', profile_link_color='981CEB', profile_sidebar_border_color='000000', profile_sidebar_fill_color='000000', profile_text_color='000000', profile_use_background_image=False, has_extended_profile=False, default_profile=False, default_profile_image=False, following=False, follow_request_sent=False, notifications=False, translator_type='none'), geo=None, coordinates=None, place=None, contributors=None, is_quote_status=False, retweet_count=1, favorite_count=5, favorited=False, retweeted=False, possibly_sensitive=False, lang='en') \n",
      "\n",
      ".....................................\n",
      "\n"
     ]
    }
   ],
   "source": [
    "for tweet in Tweets:\n",
    "    print(tweet,\"\\n\")\n",
    "    print(\".....................................\\n\")"
   ]
  },
  {
   "cell_type": "code",
   "execution_count": 9,
   "metadata": {},
   "outputs": [
    {
     "name": "stdout",
     "output_type": "stream",
     "text": [
      "Empty DataFrame\n",
      "Columns: [Tweets, User, User_statuses_count, user_followers, User_location, User_verified, fav_count, rt_count, tweet_date]\n",
      "Index: []\n"
     ]
    }
   ],
   "source": [
    "df = pd.DataFrame(columns = ['Tweets' , 'User' , 'User_statuses_count' , \n",
    "                            'user_followers' , 'User_location' , 'User_verified' ,\n",
    "                            'fav_count' , 'rt_count' , 'tweet_date'] )\n",
    "print(df)\n",
    "# print(df.shape)"
   ]
  },
  {
   "cell_type": "code",
   "execution_count": 10,
   "metadata": {},
   "outputs": [],
   "source": [
    "def stream(data, file_name):\n",
    "    i = 0\n",
    "    for tweet in tweepy.Cursor(api.search, q=data, count=100, lang='en').items():\n",
    "        print(i, end='\\r')\n",
    "        df.loc[i, 'Tweets'] = tweet.text\n",
    "        df.loc[i, 'User'] = tweet.user.name\n",
    "        df.loc[i, 'User_statuses_count'] = tweet.user.statuses_count\n",
    "        df.loc[i, 'user_followers'] = tweet.user.followers_count\n",
    "        df.loc[i, 'User_location'] = tweet.user.location\n",
    "        df.loc[i, 'User_verified'] = tweet.user.verified\n",
    "        df.loc[i, 'fav_count'] = tweet.favorite_count\n",
    "        df.loc[i, 'rt_count'] = tweet.retweet_count\n",
    "        df.loc[i, 'tweet_date'] = tweet.created_at\n",
    "        df.to_excel('{}.xlsx'.format(file_name))\n",
    "        i = i+1\n",
    "        if i == 1000:\n",
    "            break\n",
    "        else:\n",
    "            pass"
   ]
  },
  {
   "cell_type": "code",
   "execution_count": 11,
   "metadata": {},
   "outputs": [
    {
     "name": "stdout",
     "output_type": "stream",
     "text": [
      "65\r"
     ]
    }
   ],
   "source": [
    "stream(data=[\"RCB winning IPL\"] , file_name='my_tweets')"
   ]
  },
  {
   "cell_type": "code",
   "execution_count": 12,
   "metadata": {},
   "outputs": [
    {
     "data": {
      "text/html": [
       "<div>\n",
       "<style scoped>\n",
       "    .dataframe tbody tr th:only-of-type {\n",
       "        vertical-align: middle;\n",
       "    }\n",
       "\n",
       "    .dataframe tbody tr th {\n",
       "        vertical-align: top;\n",
       "    }\n",
       "\n",
       "    .dataframe thead th {\n",
       "        text-align: right;\n",
       "    }\n",
       "</style>\n",
       "<table border=\"1\" class=\"dataframe\">\n",
       "  <thead>\n",
       "    <tr style=\"text-align: right;\">\n",
       "      <th></th>\n",
       "      <th>Tweets</th>\n",
       "      <th>User</th>\n",
       "      <th>User_statuses_count</th>\n",
       "      <th>user_followers</th>\n",
       "      <th>User_location</th>\n",
       "      <th>User_verified</th>\n",
       "      <th>fav_count</th>\n",
       "      <th>rt_count</th>\n",
       "      <th>tweet_date</th>\n",
       "    </tr>\n",
       "  </thead>\n",
       "  <tbody>\n",
       "    <tr>\n",
       "      <th>0</th>\n",
       "      <td>RT @Cricbites: This is the winning moment. SRH...</td>\n",
       "      <td>Janhavi Singh</td>\n",
       "      <td>6975</td>\n",
       "      <td>36</td>\n",
       "      <td></td>\n",
       "      <td>False</td>\n",
       "      <td>0</td>\n",
       "      <td>30</td>\n",
       "      <td>2020-11-22 09:42:28</td>\n",
       "    </tr>\n",
       "    <tr>\n",
       "      <th>1</th>\n",
       "      <td>@Its_SakshamR @weirdly_myselff @mufaddal_vohra...</td>\n",
       "      <td>SAMAR</td>\n",
       "      <td>921</td>\n",
       "      <td>19</td>\n",
       "      <td>India</td>\n",
       "      <td>False</td>\n",
       "      <td>0</td>\n",
       "      <td>0</td>\n",
       "      <td>2020-11-21 15:48:04</td>\n",
       "    </tr>\n",
       "    <tr>\n",
       "      <th>2</th>\n",
       "      <td>Yaa.. 2021 will be the healing year!!! \\nRCB w...</td>\n",
       "      <td>Himawari💃</td>\n",
       "      <td>2655</td>\n",
       "      <td>197</td>\n",
       "      <td>Mumbai, India</td>\n",
       "      <td>False</td>\n",
       "      <td>4</td>\n",
       "      <td>0</td>\n",
       "      <td>2020-11-20 16:32:40</td>\n",
       "    </tr>\n",
       "    <tr>\n",
       "      <th>3</th>\n",
       "      <td>RT @vlp1994: Many years ago, Virat played a cr...</td>\n",
       "      <td>The Phenomenal Sports Fan✌️</td>\n",
       "      <td>59552</td>\n",
       "      <td>2157</td>\n",
       "      <td>Mumbai, India</td>\n",
       "      <td>False</td>\n",
       "      <td>0</td>\n",
       "      <td>2</td>\n",
       "      <td>2020-11-20 14:43:38</td>\n",
       "    </tr>\n",
       "    <tr>\n",
       "      <th>4</th>\n",
       "      <td>RT @vlp1994: Many years ago, Virat played a cr...</td>\n",
       "      <td>Jay Upadhyay</td>\n",
       "      <td>7358</td>\n",
       "      <td>18</td>\n",
       "      <td>Ahmadabad City, India</td>\n",
       "      <td>False</td>\n",
       "      <td>0</td>\n",
       "      <td>2</td>\n",
       "      <td>2020-11-20 14:19:40</td>\n",
       "    </tr>\n",
       "  </tbody>\n",
       "</table>\n",
       "</div>"
      ],
      "text/plain": [
       "                                              Tweets  \\\n",
       "0  RT @Cricbites: This is the winning moment. SRH...   \n",
       "1  @Its_SakshamR @weirdly_myselff @mufaddal_vohra...   \n",
       "2  Yaa.. 2021 will be the healing year!!! \\nRCB w...   \n",
       "3  RT @vlp1994: Many years ago, Virat played a cr...   \n",
       "4  RT @vlp1994: Many years ago, Virat played a cr...   \n",
       "\n",
       "                          User User_statuses_count user_followers  \\\n",
       "0                Janhavi Singh                6975             36   \n",
       "1                        SAMAR                 921             19   \n",
       "2                    Himawari💃                2655            197   \n",
       "3  The Phenomenal Sports Fan✌️               59552           2157   \n",
       "4                 Jay Upadhyay                7358             18   \n",
       "\n",
       "           User_location User_verified fav_count rt_count           tweet_date  \n",
       "0                                False         0       30  2020-11-22 09:42:28  \n",
       "1                  India         False         0        0  2020-11-21 15:48:04  \n",
       "2          Mumbai, India         False         4        0  2020-11-20 16:32:40  \n",
       "3          Mumbai, India         False         0        2  2020-11-20 14:43:38  \n",
       "4  Ahmadabad City, India         False         0        2  2020-11-20 14:19:40  "
      ]
     },
     "execution_count": 12,
     "metadata": {},
     "output_type": "execute_result"
    }
   ],
   "source": [
    "df.head()"
   ]
  },
  {
   "cell_type": "code",
   "execution_count": 13,
   "metadata": {},
   "outputs": [
    {
     "name": "stdout",
     "output_type": "stream",
     "text": [
      "Requirement already satisfied: textblob in c:\\users\\akshay\\anaconda3\\lib\\site-packages (0.15.3)\n",
      "Requirement already satisfied: nltk>=3.1 in c:\\users\\akshay\\anaconda3\\lib\\site-packages (from textblob) (3.5)\n",
      "Requirement already satisfied: click in c:\\users\\akshay\\anaconda3\\lib\\site-packages (from nltk>=3.1->textblob) (7.1.2)\n",
      "Requirement already satisfied: regex in c:\\users\\akshay\\anaconda3\\lib\\site-packages (from nltk>=3.1->textblob) (2020.10.15)\n",
      "Requirement already satisfied: joblib in c:\\users\\akshay\\anaconda3\\lib\\site-packages (from nltk>=3.1->textblob) (0.17.0)\n",
      "Requirement already satisfied: tqdm in c:\\users\\akshay\\anaconda3\\lib\\site-packages (from nltk>=3.1->textblob) (4.50.2)\n"
     ]
    }
   ],
   "source": [
    "!pip install textblob"
   ]
  },
  {
   "cell_type": "code",
   "execution_count": 14,
   "metadata": {},
   "outputs": [],
   "source": [
    "from textblob import TextBlob"
   ]
  },
  {
   "cell_type": "code",
   "execution_count": 15,
   "metadata": {},
   "outputs": [],
   "source": [
    "import re\n",
    "def clean_tweet(tweet):\n",
    "    return ' '.join(re.sub('(@[A-Za-z0-9]+)|([^0-9A-Za-z \\t])|(\\w+:\\/\\/\\S+)', ' ', tweet).split())"
   ]
  },
  {
   "cell_type": "code",
   "execution_count": 16,
   "metadata": {},
   "outputs": [],
   "source": [
    "def analyze_sentiment(tweet):\n",
    "    analysis = TextBlob(tweet)\n",
    "    if analysis.sentiment.polarity > 0:\n",
    "        return 'Positive'\n",
    "    elif analysis.sentiment.polarity == 0:\n",
    "        return 'Neutral'\n",
    "    else:\n",
    "        return 'Negative'"
   ]
  },
  {
   "cell_type": "code",
   "execution_count": 17,
   "metadata": {},
   "outputs": [],
   "source": [
    "df['clean_tweet'] = df['Tweets'].apply(lambda x : clean_tweet(x))"
   ]
  },
  {
   "cell_type": "code",
   "execution_count": 18,
   "metadata": {},
   "outputs": [
    {
     "data": {
      "text/html": [
       "<div>\n",
       "<style scoped>\n",
       "    .dataframe tbody tr th:only-of-type {\n",
       "        vertical-align: middle;\n",
       "    }\n",
       "\n",
       "    .dataframe tbody tr th {\n",
       "        vertical-align: top;\n",
       "    }\n",
       "\n",
       "    .dataframe thead th {\n",
       "        text-align: right;\n",
       "    }\n",
       "</style>\n",
       "<table border=\"1\" class=\"dataframe\">\n",
       "  <thead>\n",
       "    <tr style=\"text-align: right;\">\n",
       "      <th></th>\n",
       "      <th>Tweets</th>\n",
       "      <th>User</th>\n",
       "      <th>User_statuses_count</th>\n",
       "      <th>user_followers</th>\n",
       "      <th>User_location</th>\n",
       "      <th>User_verified</th>\n",
       "      <th>fav_count</th>\n",
       "      <th>rt_count</th>\n",
       "      <th>tweet_date</th>\n",
       "      <th>clean_tweet</th>\n",
       "    </tr>\n",
       "  </thead>\n",
       "  <tbody>\n",
       "    <tr>\n",
       "      <th>0</th>\n",
       "      <td>RT @Cricbites: This is the winning moment. SRH...</td>\n",
       "      <td>Janhavi Singh</td>\n",
       "      <td>6975</td>\n",
       "      <td>36</td>\n",
       "      <td></td>\n",
       "      <td>False</td>\n",
       "      <td>0</td>\n",
       "      <td>30</td>\n",
       "      <td>2020-11-22 09:42:28</td>\n",
       "      <td>RT This is the winning moment SRH have beaten ...</td>\n",
       "    </tr>\n",
       "    <tr>\n",
       "      <th>1</th>\n",
       "      <td>@Its_SakshamR @weirdly_myselff @mufaddal_vohra...</td>\n",
       "      <td>SAMAR</td>\n",
       "      <td>921</td>\n",
       "      <td>19</td>\n",
       "      <td>India</td>\n",
       "      <td>False</td>\n",
       "      <td>0</td>\n",
       "      <td>0</td>\n",
       "      <td>2020-11-21 15:48:04</td>\n",
       "      <td>SakshamR myselff vohra As Rohit say mi team no...</td>\n",
       "    </tr>\n",
       "    <tr>\n",
       "      <th>2</th>\n",
       "      <td>Yaa.. 2021 will be the healing year!!! \\nRCB w...</td>\n",
       "      <td>Himawari💃</td>\n",
       "      <td>2655</td>\n",
       "      <td>197</td>\n",
       "      <td>Mumbai, India</td>\n",
       "      <td>False</td>\n",
       "      <td>4</td>\n",
       "      <td>0</td>\n",
       "      <td>2020-11-20 16:32:40</td>\n",
       "      <td>Yaa 2021 will be the healing year RCB winning ...</td>\n",
       "    </tr>\n",
       "    <tr>\n",
       "      <th>3</th>\n",
       "      <td>RT @vlp1994: Many years ago, Virat played a cr...</td>\n",
       "      <td>The Phenomenal Sports Fan✌️</td>\n",
       "      <td>59552</td>\n",
       "      <td>2157</td>\n",
       "      <td>Mumbai, India</td>\n",
       "      <td>False</td>\n",
       "      <td>0</td>\n",
       "      <td>2</td>\n",
       "      <td>2020-11-20 14:43:38</td>\n",
       "      <td>RT Many years ago Virat played a crucial knock...</td>\n",
       "    </tr>\n",
       "    <tr>\n",
       "      <th>4</th>\n",
       "      <td>RT @vlp1994: Many years ago, Virat played a cr...</td>\n",
       "      <td>Jay Upadhyay</td>\n",
       "      <td>7358</td>\n",
       "      <td>18</td>\n",
       "      <td>Ahmadabad City, India</td>\n",
       "      <td>False</td>\n",
       "      <td>0</td>\n",
       "      <td>2</td>\n",
       "      <td>2020-11-20 14:19:40</td>\n",
       "      <td>RT Many years ago Virat played a crucial knock...</td>\n",
       "    </tr>\n",
       "  </tbody>\n",
       "</table>\n",
       "</div>"
      ],
      "text/plain": [
       "                                              Tweets  \\\n",
       "0  RT @Cricbites: This is the winning moment. SRH...   \n",
       "1  @Its_SakshamR @weirdly_myselff @mufaddal_vohra...   \n",
       "2  Yaa.. 2021 will be the healing year!!! \\nRCB w...   \n",
       "3  RT @vlp1994: Many years ago, Virat played a cr...   \n",
       "4  RT @vlp1994: Many years ago, Virat played a cr...   \n",
       "\n",
       "                          User User_statuses_count user_followers  \\\n",
       "0                Janhavi Singh                6975             36   \n",
       "1                        SAMAR                 921             19   \n",
       "2                    Himawari💃                2655            197   \n",
       "3  The Phenomenal Sports Fan✌️               59552           2157   \n",
       "4                 Jay Upadhyay                7358             18   \n",
       "\n",
       "           User_location User_verified fav_count rt_count  \\\n",
       "0                                False         0       30   \n",
       "1                  India         False         0        0   \n",
       "2          Mumbai, India         False         4        0   \n",
       "3          Mumbai, India         False         0        2   \n",
       "4  Ahmadabad City, India         False         0        2   \n",
       "\n",
       "            tweet_date                                        clean_tweet  \n",
       "0  2020-11-22 09:42:28  RT This is the winning moment SRH have beaten ...  \n",
       "1  2020-11-21 15:48:04  SakshamR myselff vohra As Rohit say mi team no...  \n",
       "2  2020-11-20 16:32:40  Yaa 2021 will be the healing year RCB winning ...  \n",
       "3  2020-11-20 14:43:38  RT Many years ago Virat played a crucial knock...  \n",
       "4  2020-11-20 14:19:40  RT Many years ago Virat played a crucial knock...  "
      ]
     },
     "execution_count": 18,
     "metadata": {},
     "output_type": "execute_result"
    }
   ],
   "source": [
    "df.head()"
   ]
  },
  {
   "cell_type": "code",
   "execution_count": 19,
   "metadata": {},
   "outputs": [
    {
     "data": {
      "text/html": [
       "<div>\n",
       "<style scoped>\n",
       "    .dataframe tbody tr th:only-of-type {\n",
       "        vertical-align: middle;\n",
       "    }\n",
       "\n",
       "    .dataframe tbody tr th {\n",
       "        vertical-align: top;\n",
       "    }\n",
       "\n",
       "    .dataframe thead th {\n",
       "        text-align: right;\n",
       "    }\n",
       "</style>\n",
       "<table border=\"1\" class=\"dataframe\">\n",
       "  <thead>\n",
       "    <tr style=\"text-align: right;\">\n",
       "      <th></th>\n",
       "      <th>Tweets</th>\n",
       "      <th>User</th>\n",
       "      <th>User_statuses_count</th>\n",
       "      <th>user_followers</th>\n",
       "      <th>User_location</th>\n",
       "      <th>User_verified</th>\n",
       "      <th>fav_count</th>\n",
       "      <th>rt_count</th>\n",
       "      <th>tweet_date</th>\n",
       "      <th>clean_tweet</th>\n",
       "      <th>Sentiment</th>\n",
       "    </tr>\n",
       "  </thead>\n",
       "  <tbody>\n",
       "    <tr>\n",
       "      <th>0</th>\n",
       "      <td>RT @Cricbites: This is the winning moment. SRH...</td>\n",
       "      <td>Janhavi Singh</td>\n",
       "      <td>6975</td>\n",
       "      <td>36</td>\n",
       "      <td></td>\n",
       "      <td>False</td>\n",
       "      <td>0</td>\n",
       "      <td>30</td>\n",
       "      <td>2020-11-22 09:42:28</td>\n",
       "      <td>RT This is the winning moment SRH have beaten ...</td>\n",
       "      <td>Positive</td>\n",
       "    </tr>\n",
       "    <tr>\n",
       "      <th>1</th>\n",
       "      <td>@Its_SakshamR @weirdly_myselff @mufaddal_vohra...</td>\n",
       "      <td>SAMAR</td>\n",
       "      <td>921</td>\n",
       "      <td>19</td>\n",
       "      <td>India</td>\n",
       "      <td>False</td>\n",
       "      <td>0</td>\n",
       "      <td>0</td>\n",
       "      <td>2020-11-21 15:48:04</td>\n",
       "      <td>SakshamR myselff vohra As Rohit say mi team no...</td>\n",
       "      <td>Positive</td>\n",
       "    </tr>\n",
       "    <tr>\n",
       "      <th>2</th>\n",
       "      <td>Yaa.. 2021 will be the healing year!!! \\nRCB w...</td>\n",
       "      <td>Himawari💃</td>\n",
       "      <td>2655</td>\n",
       "      <td>197</td>\n",
       "      <td>Mumbai, India</td>\n",
       "      <td>False</td>\n",
       "      <td>4</td>\n",
       "      <td>0</td>\n",
       "      <td>2020-11-20 16:32:40</td>\n",
       "      <td>Yaa 2021 will be the healing year RCB winning ...</td>\n",
       "      <td>Positive</td>\n",
       "    </tr>\n",
       "    <tr>\n",
       "      <th>3</th>\n",
       "      <td>RT @vlp1994: Many years ago, Virat played a cr...</td>\n",
       "      <td>The Phenomenal Sports Fan✌️</td>\n",
       "      <td>59552</td>\n",
       "      <td>2157</td>\n",
       "      <td>Mumbai, India</td>\n",
       "      <td>False</td>\n",
       "      <td>0</td>\n",
       "      <td>2</td>\n",
       "      <td>2020-11-20 14:43:38</td>\n",
       "      <td>RT Many years ago Virat played a crucial knock...</td>\n",
       "      <td>Positive</td>\n",
       "    </tr>\n",
       "    <tr>\n",
       "      <th>4</th>\n",
       "      <td>RT @vlp1994: Many years ago, Virat played a cr...</td>\n",
       "      <td>Jay Upadhyay</td>\n",
       "      <td>7358</td>\n",
       "      <td>18</td>\n",
       "      <td>Ahmadabad City, India</td>\n",
       "      <td>False</td>\n",
       "      <td>0</td>\n",
       "      <td>2</td>\n",
       "      <td>2020-11-20 14:19:40</td>\n",
       "      <td>RT Many years ago Virat played a crucial knock...</td>\n",
       "      <td>Positive</td>\n",
       "    </tr>\n",
       "  </tbody>\n",
       "</table>\n",
       "</div>"
      ],
      "text/plain": [
       "                                              Tweets  \\\n",
       "0  RT @Cricbites: This is the winning moment. SRH...   \n",
       "1  @Its_SakshamR @weirdly_myselff @mufaddal_vohra...   \n",
       "2  Yaa.. 2021 will be the healing year!!! \\nRCB w...   \n",
       "3  RT @vlp1994: Many years ago, Virat played a cr...   \n",
       "4  RT @vlp1994: Many years ago, Virat played a cr...   \n",
       "\n",
       "                          User User_statuses_count user_followers  \\\n",
       "0                Janhavi Singh                6975             36   \n",
       "1                        SAMAR                 921             19   \n",
       "2                    Himawari💃                2655            197   \n",
       "3  The Phenomenal Sports Fan✌️               59552           2157   \n",
       "4                 Jay Upadhyay                7358             18   \n",
       "\n",
       "           User_location User_verified fav_count rt_count  \\\n",
       "0                                False         0       30   \n",
       "1                  India         False         0        0   \n",
       "2          Mumbai, India         False         4        0   \n",
       "3          Mumbai, India         False         0        2   \n",
       "4  Ahmadabad City, India         False         0        2   \n",
       "\n",
       "            tweet_date                                        clean_tweet  \\\n",
       "0  2020-11-22 09:42:28  RT This is the winning moment SRH have beaten ...   \n",
       "1  2020-11-21 15:48:04  SakshamR myselff vohra As Rohit say mi team no...   \n",
       "2  2020-11-20 16:32:40  Yaa 2021 will be the healing year RCB winning ...   \n",
       "3  2020-11-20 14:43:38  RT Many years ago Virat played a crucial knock...   \n",
       "4  2020-11-20 14:19:40  RT Many years ago Virat played a crucial knock...   \n",
       "\n",
       "  Sentiment  \n",
       "0  Positive  \n",
       "1  Positive  \n",
       "2  Positive  \n",
       "3  Positive  \n",
       "4  Positive  "
      ]
     },
     "execution_count": 19,
     "metadata": {},
     "output_type": "execute_result"
    }
   ],
   "source": [
    "df['Sentiment'] = df['clean_tweet'].apply(lambda x : analyze_sentiment(x) )\n",
    "df.head()"
   ]
  },
  {
   "cell_type": "code",
   "execution_count": 20,
   "metadata": {},
   "outputs": [
    {
     "name": "stdout",
     "output_type": "stream",
     "text": [
      "Original tweet:\n",
      " @Its_SakshamR @weirdly_myselff @mufaddal_vohra As Rohit say mi team not become strong over night they build it by o… https://t.co/yFnTmYZ9ve\n",
      "\n",
      "Clean tweet:\n",
      " SakshamR myselff vohra As Rohit say mi team not become strong over night they build it by o\n",
      "\n",
      "Sentiment of the tweet:\n",
      " Positive\n"
     ]
    }
   ],
   "source": [
    "n = 1\n",
    "print(\"Original tweet:\\n\",df['Tweets'][n])\n",
    "print()\n",
    "print(\"Clean tweet:\\n\",df['clean_tweet'][n])\n",
    "print()\n",
    "print(\"Sentiment of the tweet:\\n\",df['Sentiment'][n])"
   ]
  },
  {
   "cell_type": "code",
   "execution_count": 21,
   "metadata": {},
   "outputs": [
    {
     "name": "stdout",
     "output_type": "stream",
     "text": [
      "Original tweet:\n",
      " @Lfc_Maneesh @imVkohli @imVkohli  is not a bad captain. He is captain of a bad team. Without out improving rcb they… https://t.co/7VKRuouTAf\n",
      "\n",
      "Clean tweet:\n",
      " Maneesh is not a bad captain He is captain of a bad team Without out improving rcb they\n",
      "\n",
      "Sentiment of the tweet:\n",
      " Negative\n"
     ]
    }
   ],
   "source": [
    "n = 20\n",
    "print(\"Original tweet:\\n\",df['Tweets'][n])\n",
    "print()\n",
    "print(\"Clean tweet:\\n\",df['clean_tweet'][n])\n",
    "print()\n",
    "print(\"Sentiment of the tweet:\\n\",df['Sentiment'][n])"
   ]
  },
  {
   "cell_type": "code",
   "execution_count": 23,
   "metadata": {},
   "outputs": [
    {
     "name": "stdout",
     "output_type": "stream",
     "text": [
      "Original tweet:\n",
      " RT @CricketSaish45: RCB Fans who were crying like cats for an IPL Trophy since last 3 months &amp; barking like dogs after winning a match are…\n",
      "\n",
      "Clean tweet:\n",
      " RT RCB Fans who were crying like cats for an IPL Trophy since last 3 months amp barking like dogs after winning a match are\n",
      "\n",
      "Sentiment of the tweet:\n",
      " Positive\n"
     ]
    }
   ],
   "source": [
    "n = 65\n",
    "print(\"Original tweet:\\n\",df['Tweets'][n])\n",
    "print()\n",
    "print(\"Clean tweet:\\n\",df['clean_tweet'][n])\n",
    "print()\n",
    "print(\"Sentiment of the tweet:\\n\",df['Sentiment'][n])"
   ]
  },
  {
   "cell_type": "code",
   "execution_count": 24,
   "metadata": {},
   "outputs": [
    {
     "data": {
      "text/plain": [
       "48"
      ]
     },
     "execution_count": 24,
     "metadata": {},
     "output_type": "execute_result"
    }
   ],
   "source": [
    "df[df.Sentiment == 'Positive'].shape[0]"
   ]
  },
  {
   "cell_type": "code",
   "execution_count": 25,
   "metadata": {},
   "outputs": [
    {
     "data": {
      "text/plain": [
       "8"
      ]
     },
     "execution_count": 25,
     "metadata": {},
     "output_type": "execute_result"
    }
   ],
   "source": [
    "df[df.Sentiment == 'Neutral'].shape[0]"
   ]
  },
  {
   "cell_type": "code",
   "execution_count": 26,
   "metadata": {},
   "outputs": [
    {
     "data": {
      "text/plain": [
       "10"
      ]
     },
     "execution_count": 26,
     "metadata": {},
     "output_type": "execute_result"
    }
   ],
   "source": [
    "df[df.Sentiment == 'Negative'].shape[0]"
   ]
  }
 ],
 "metadata": {
  "kernelspec": {
   "display_name": "Python 3",
   "language": "python",
   "name": "python3"
  },
  "language_info": {
   "codemirror_mode": {
    "name": "ipython",
    "version": 3
   },
   "file_extension": ".py",
   "mimetype": "text/x-python",
   "name": "python",
   "nbconvert_exporter": "python",
   "pygments_lexer": "ipython3",
   "version": "3.7.9"
  }
 },
 "nbformat": 4,
 "nbformat_minor": 2
}
